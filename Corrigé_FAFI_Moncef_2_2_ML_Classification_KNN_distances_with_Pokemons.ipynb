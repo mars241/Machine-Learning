{
  "nbformat": 4,
  "nbformat_minor": 0,
  "metadata": {
    "colab": {
      "provenance": [],
      "include_colab_link": true
    },
    "kernelspec": {
      "name": "python3",
      "display_name": "Python 3"
    },
    "language_info": {
      "name": "python"
    }
  },
  "cells": [
    {
      "cell_type": "markdown",
      "metadata": {
        "id": "view-in-github",
        "colab_type": "text"
      },
      "source": [
        "<a href=\"https://colab.research.google.com/github/mars241/Machine-Learning/blob/main/Corrig%C3%A9_FAFI_Moncef_2_2_ML_Classification_KNN_distances_with_Pokemons.ipynb\" target=\"_parent\"><img src=\"https://colab.research.google.com/assets/colab-badge.svg\" alt=\"Open In Colab\"/></a>"
      ]
    },
    {
      "cell_type": "markdown",
      "source": [
        "# 1. Importation des librairies et initialisation du DataFrame"
      ],
      "metadata": {
        "id": "ndHcL5MaaRsT"
      }
    },
    {
      "cell_type": "code",
      "execution_count": null,
      "metadata": {
        "id": "7NcYJisPZzTQ"
      },
      "outputs": [],
      "source": [
        "import numpy as np\n",
        "import pandas as pd\n",
        "import seaborn as sns\n",
        "from sklearn.neighbors import KNeighborsClassifier\n",
        "\n",
        "df_pokemon = pd.read_csv('https://raw.githubusercontent.com/murpi/wilddata/master/pokemon.csv', sep=',')"
      ]
    },
    {
      "cell_type": "code",
      "source": [
        "df_pokemon.info()\n",
        "# On remarque la colonne Type 2 qui a seulement 414 valeures sur 800\n",
        "# On choisit de l'ignorer\n",
        "\n",
        "df_pokemon = df_pokemon.drop(columns=['Type 2'])"
      ],
      "metadata": {
        "colab": {
          "base_uri": "https://localhost:8080/"
        },
        "id": "9cuf2OMuaRNR",
        "outputId": "7dc9de7e-e93b-4bfd-894e-8c6be6e58dd5"
      },
      "execution_count": null,
      "outputs": [
        {
          "output_type": "stream",
          "name": "stdout",
          "text": [
            "<class 'pandas.core.frame.DataFrame'>\n",
            "RangeIndex: 800 entries, 0 to 799\n",
            "Data columns (total 12 columns):\n",
            " #   Column      Non-Null Count  Dtype \n",
            "---  ------      --------------  ----- \n",
            " 0   #           800 non-null    int64 \n",
            " 1   Name        800 non-null    object\n",
            " 2   Type 1      800 non-null    object\n",
            " 3   Type 2      414 non-null    object\n",
            " 4   HP          800 non-null    int64 \n",
            " 5   Attack      800 non-null    int64 \n",
            " 6   Defense     800 non-null    int64 \n",
            " 7   Sp. Atk     800 non-null    int64 \n",
            " 8   Sp. Def     800 non-null    int64 \n",
            " 9   Speed       800 non-null    int64 \n",
            " 10  Generation  800 non-null    int64 \n",
            " 11  Legendary   800 non-null    bool  \n",
            "dtypes: bool(1), int64(8), object(3)\n",
            "memory usage: 69.7+ KB\n"
          ]
        }
      ]
    },
    {
      "cell_type": "markdown",
      "source": [
        "# 2. On s'intéresse dans le détail aux colonnes"
      ],
      "metadata": {
        "id": "EL9Atonxb2m2"
      }
    },
    {
      "cell_type": "markdown",
      "source": [
        "## Colonne `#` :\n",
        "Valeur numérique, mais ne doit surtout pas être pris en compte dans l'algo. C'est simplement un identifiant, la proximité entre les pokémons ne dépend absolument pas de cette valeur\n",
        "\n",
        "## Colonne `Name` :\n",
        "Dtype object, un texte indiquant le nom du Pokémon, sert simplement à nommer et identifier le pokémon.\n",
        "\n",
        "## Colonne `Type 1` :\n",
        "Dtype object, un texte pour donner le type du Pokémon.  \n",
        "La valeur du champ est déterminante dans le choix d'un pokémon, on a besoin de l'intégrer au modèle mais un traitement est nécessaire.  \n",
        "Avec `nunique()` sur la colonne on trouve 18 valeurs. Plutôt que de garder le type object, on peut au choix utiliser `factorize()` ou `get_dummies()` pour avoir des nombres.\n",
        "`factorize()` va classifier les 18 types en 18 valeurs numériques, mais la proximité de deux types (2 et 3, ou 4 et 18) va impacter notre modèle qui va attribuer un poids différent.  \n",
        "On va partir sur `get_dummies()`, même si ça va rajouter 18 colonnes x 800 lignes, et on comparera après coup avec un factorize au besoin.\n",
        "\n",
        "## Colonne `HP`, `Attack`, `Defense`, `Sp. Atk`, `Sp. Def`, `Speed` :\n",
        "Colonnes en int64, qui donnent respectivement les nombre de points de vie, points d'attaque / défense, attaque et défense spéciale, vitesse d'attaque d'un pokémon.\n",
        "Toutes utiles au modèle, et déterminent les performances, et donc le choix d'un pokémon. Aucun traitement supplémentaire sur ces colonnes.\n",
        "\n",
        "## Colonne `Generation` :\n",
        "Colonne en int64, qui identifie la génération du pokémon entre la 1ère et la 6ème.\n",
        "C'est une valeur numérique, mais elle n'a aucune incidence sur la performance d'un pokémon, elle sert simplement à les classifier.\n",
        "On peut donc l'ignorer\n",
        "\n",
        "## Colonne `Legendary` :\n",
        "Colonne qui indique par un booléen si le pokémon est légendaire ou non.   \n",
        "Globalement, un pokémon légendaire a des caractéristiques boostées donc plus puissant qu'un pokémon classique.  \n",
        "On doit rechercher uniquement des pokémon classiques et on pourrait être tenté d'ignorer cette colonne.  \n",
        "On choisit de la traiter car elle a un impact sur les autres valeures.  \n",
        "Elle détermine en partie la classification des pokémon et donc leur distance dans notre modèle.  \n",
        "Pour le résultat final, on ignorera simplement les voisins proches qui sont des pokémons légendaires.\n",
        "On la garde sous forme numérique avec un `factorize()` :\n"
      ],
      "metadata": {
        "id": "-GugN7AHjU_J"
      }
    },
    {
      "cell_type": "code",
      "source": [
        "# On éclate la colonne `Type 1` avec `get_dummies()` et on convertit la colonne `Legendary`\n",
        "df_pokemon = pd.concat([df_pokemon,df_pokemon['Type 1'].str.get_dummies()], axis = 1)\n",
        "df_pokemon['Legendary'] = df_pokemon['Legendary'].factorize()[0]"
      ],
      "metadata": {
        "id": "Ee4YDYnUkRMp"
      },
      "execution_count": null,
      "outputs": []
    },
    {
      "cell_type": "markdown",
      "source": [
        "# 3. Le DataFrame est prêt, on peut commencer le traitement du problème suivant :\n",
        "Remplacer les pokémons légendaires par les pokémons classiques les plus proches dans l'équipe du champion :  \n",
        "Mewtwo, Lugia, Rayquaza, Giratina, Dialga, et Palkia."
      ],
      "metadata": {
        "id": "pYommXQnlC-8"
      }
    },
    {
      "cell_type": "code",
      "source": [
        "equipe_originale = ['Mewtwo', 'Lugia', 'Rayquaza', 'Giratina', 'Dialga', 'Palkia']\n",
        "\n",
        "def cherche_legendaires(une_liste):\n",
        "\n",
        "  dict_legend = {}\n",
        "  for i in  une_liste:\n",
        "    dict_legend[i] = df_pokemon.loc[df_pokemon['Name'].str.contains(i), 'Legendary'].iloc[0]\n",
        "  return dict_legend\n",
        "\n",
        "\n",
        "cherche_legendaires(equipe_originale)\n",
        "# Les 6 pokémons sont des pokémons légendaires, il faut créer une nouvelle équipe complète"
      ],
      "metadata": {
        "colab": {
          "base_uri": "https://localhost:8080/"
        },
        "id": "XdKq2r_Zlrxs",
        "outputId": "ca4c1d1a-6dab-47ff-c495-17a05745b838"
      },
      "execution_count": null,
      "outputs": [
        {
          "output_type": "execute_result",
          "data": {
            "text/plain": [
              "{'Mewtwo': 1,\n",
              " 'Lugia': 1,\n",
              " 'Rayquaza': 1,\n",
              " 'Giratina': 1,\n",
              " 'Dialga': 1,\n",
              " 'Palkia': 1}"
            ]
          },
          "metadata": {},
          "execution_count": 4
        }
      ]
    },
    {
      "cell_type": "code",
      "source": [
        "from sklearn.neighbors import NearestNeighbors\n",
        "\n",
        "# On définit les colonnes qui vont servir au calcul des voisins, ce sont les colonnes que l'on doit renseigner avec kneighbors également\n",
        "filtre_colonnes = ['HP', 'Attack', 'Defense', 'Sp. Atk', 'Sp. Def',\n",
        "       'Speed', 'Legendary', 'Bug', 'Dark', 'Dragon', 'Electric',\n",
        "       'Fairy', 'Fighting', 'Fire', 'Flying', 'Ghost', 'Grass', 'Ground',\n",
        "       'Ice', 'Normal', 'Poison', 'Psychic', 'Rock', 'Steel', 'Water']\n",
        "\n",
        "def init_distanceKNN(un_nombre_de_voisins, une_liste_colonnes_pour_X):\n",
        "  X = df_pokemon[une_liste_colonnes_pour_X]\n",
        "  X = X.values\n",
        "  return NearestNeighbors(n_neighbors=un_nombre_de_voisins).fit(X)\n",
        "\n",
        "def cherche_stats_equipe(une_liste_de_pokemon):\n",
        "  dict_stats_equipe = {}\n",
        "  # On alimente un dictionnaire avec les pokemon de l'équipe originale, et leurs stats en suivant la liste de colonnes filtre_colonnes\n",
        "  for i in  une_liste_de_pokemon:\n",
        "    dict_stats_equipe[i] = df_pokemon.loc[df_pokemon['Name'].str.contains(i), filtre_colonnes].iloc[0].tolist()\n",
        "  return dict_stats_equipe\n",
        "\n",
        "\n",
        "# On prends le dataframe réduit (sans les colonne '#', 'Name', 'Type 1', et 'Generation') pour chercher les voisins les plus proches\n",
        "# On choisit n=10 afin de ne pas avoir que des légendaires dans le résultat des proches voisins plus bas\n",
        "distanceKNN = init_distanceKNN(10,filtre_colonnes)\n",
        "dict_stats_equipe_originale = cherche_stats_equipe(equipe_originale)\n",
        "\n",
        "#Affichage pour contrôle\n",
        "print(distanceKNN,'\\n',dict_stats_equipe_originale)"
      ],
      "metadata": {
        "colab": {
          "base_uri": "https://localhost:8080/"
        },
        "id": "xPl9o4uwqfvq",
        "outputId": "79307bb9-470e-4751-e0c6-5967f3a2a87b"
      },
      "execution_count": null,
      "outputs": [
        {
          "output_type": "stream",
          "name": "stdout",
          "text": [
            "NearestNeighbors(n_neighbors=10) \n",
            " {'Mewtwo': [106, 110, 90, 154, 90, 130, 1, 0, 0, 0, 0, 0, 0, 0, 0, 0, 0, 0, 0, 0, 0, 1, 0, 0, 0], 'Lugia': [106, 90, 130, 90, 154, 110, 1, 0, 0, 0, 0, 0, 0, 0, 0, 0, 0, 0, 0, 0, 0, 1, 0, 0, 0], 'Rayquaza': [105, 150, 90, 150, 90, 95, 1, 0, 0, 1, 0, 0, 0, 0, 0, 0, 0, 0, 0, 0, 0, 0, 0, 0, 0], 'Giratina': [150, 100, 120, 100, 120, 90, 1, 0, 0, 0, 0, 0, 0, 0, 0, 1, 0, 0, 0, 0, 0, 0, 0, 0, 0], 'Dialga': [100, 120, 120, 150, 100, 90, 1, 0, 0, 0, 0, 0, 0, 0, 0, 0, 0, 0, 0, 0, 0, 0, 0, 1, 0], 'Palkia': [90, 120, 100, 150, 120, 100, 1, 0, 0, 0, 0, 0, 0, 0, 0, 0, 0, 0, 0, 0, 0, 0, 0, 0, 1]}\n"
          ]
        }
      ]
    },
    {
      "cell_type": "markdown",
      "source": [
        "# 4. On fais le test avec Mewtwo, on généralisera par la suite"
      ],
      "metadata": {
        "id": "sCtG0iWNAuIR"
      }
    },
    {
      "cell_type": "code",
      "source": [
        "# On teste les proches voisins de Mewtwo :\n",
        "distanceKNN.kneighbors([dict_stats_equipe_originale['Mewtwo']])\n",
        "\n",
        "# Le 1er array renvoie la liste des distances, 0 = lui-même, 41 à 47, les 9 voisins suivants\n",
        "# Le 2ème array renvoie la liste des numéros des pokemons, 162 = Mewtwo, 551 = Shaymin Sky Forme, 248 = Mega Houndoom etc..."
      ],
      "metadata": {
        "colab": {
          "base_uri": "https://localhost:8080/"
        },
        "id": "7gOqRKDU0ww-",
        "outputId": "ace8d2bd-669b-4c03-fe9a-da06214b1a83"
      },
      "execution_count": null,
      "outputs": [
        {
          "output_type": "execute_result",
          "data": {
            "text/plain": [
              "(array([[ 0.        , 41.25530269, 42.24926035, 43.06971093, 45.21061822,\n",
              "         45.54119015, 45.65084884, 45.70557953, 46.66904756, 47.68647607]]),\n",
              " array([[162, 551, 248, 275, 712,  23, 549, 696, 705, 541]]))"
            ]
          },
          "metadata": {},
          "execution_count": 6
        }
      ]
    },
    {
      "cell_type": "code",
      "source": [
        "# On doit trouver le voisin le plus proche, qui ne soit pas un légendaire\n",
        "\n",
        "# On récupère les 2 array pour ses 10 voisins\n",
        "voisins_n_10 = distanceKNN.kneighbors([dict_stats_equipe_originale['Mewtwo']])\n",
        "\n",
        "for i in range(1,10):\n",
        "  remplacant = df_pokemon[df_pokemon['#'] == voisins_n_10[1][0][i] +1]['Legendary'] == 0\n",
        "  if remplacant.bool() :\n",
        "    break\n",
        "\"\"\" ================================   EXPLICATION DU FOR   ================================================\n",
        "remplacant : une variable pour chercher le pokemon candidat qui remplacera Mewtwo dans l'exemple\n",
        "\n",
        "Algo :\n",
        "voisins_n_10[1][0][i] : On parcours le 2ème array [1][0], pour tous les [i], donc pour les voisins de 1 à 10 => liste les numéros '#' des pokémons voisins\n",
        "On à n = 10 voisins. Mais on commence la boucle à 1 pour ignorer Mewtwo\n",
        "voisins_n_10[1][0][i] +1 : Il y a un décalage de 1 entre l'index qui commence à 0, et le numéro des pokémons qui commence à 1, donc on le répercute ici pour identifier le bon\n",
        "df_pokemon[df_pokemon['#'] == voisins_n_10[1][0][i] +1] : On applique le dataframe pour récupérer toutes les infos du pokemon qui match avec le numéro retourné par voisins_n_10\n",
        "Enfin on s'intéresse juste à la colonne Legendary qui doit etre égale à 0.\n",
        "Le résultat de ce test logique est un booléen stocké dans la variable remplacant\n",
        "Dès qu'on trouve une valeur à vraie, c'est qu'on a le plus proche voisin non légendaire, on peut donc sortir de la boucle\n",
        "====================================   FIN EXPLICATION   ====================================================\n",
        "\"\"\"\n",
        "\n",
        "# Affichage pour contrôle :\n",
        "print('Variable remplacant : \\n',remplacant,'\\n\\nNom du pokémon remplaçant : \\n', df_pokemon[df_pokemon['#']==remplacant.index[0]+1]['Name'],'\\n')\n",
        "\n",
        "# On trouve donc que Mewtwo doit être remplacé par le 248 qui est 'Mega Houndoom'"
      ],
      "metadata": {
        "colab": {
          "base_uri": "https://localhost:8080/"
        },
        "id": "CbL2TurY4QEV",
        "outputId": "c66f13d3-99d3-4b9d-d5ab-3c8c39f99497"
      },
      "execution_count": null,
      "outputs": [
        {
          "output_type": "stream",
          "name": "stdout",
          "text": [
            "Variable remplacant : \n",
            " 248    True\n",
            "Name: Legendary, dtype: bool \n",
            "\n",
            "Nom du pokémon remplaçant : \n",
            " 248    Mega Houndoom\n",
            "Name: Name, dtype: object \n",
            "\n"
          ]
        }
      ]
    },
    {
      "cell_type": "markdown",
      "source": [
        "# 5. Généraliser le traitement pour toute l'équipe et retourner une liste de 6 pokémons similaire à equipe_originale"
      ],
      "metadata": {
        "id": "-yOvU_nCBcrp"
      }
    },
    {
      "cell_type": "markdown",
      "source": [
        "## 5.1 Création de fonctions pour le bloc 3. à l'initialisation de *distanceKNN*"
      ],
      "metadata": {
        "id": "mFMc1_WzHCHA"
      }
    },
    {
      "cell_type": "markdown",
      "source": [
        "## 5.2 Dans le bloc 4. au lieu de renseigner Mewtwo, faire le traitement avec toute l'équipe originale\n"
      ],
      "metadata": {
        "id": "v8cnbgYNH6N8"
      }
    },
    {
      "cell_type": "code",
      "source": [
        "\"\"\"\n",
        "Bloc avec beaucoup de commentaires pour garder une trace du raisonnement au besoin d'y replonger\n",
        "C'est exactement le même code dans le bloc qui suit, passer directement à la suite au besoin\n",
        "\"\"\"\n",
        "\n",
        "# On ré initialise distanceKNN, on garde n=10 pour éviter les légendaires ou les doublons\n",
        "# Variables locales :\n",
        "nb_voisins=10\n",
        "distanceKNN = init_distanceKNN(nb_voisins,filtre_colonnes)\n",
        "liste_remplacants=[]\n",
        "\n",
        "# Decommenter les print pour checker la valeurs des variables dans les deux boucles, et vérifier le if\n",
        "\n",
        "# On parcourt chaque pokemon de la liste originale\n",
        "# On fait la recherche des voisins de chaque pokemon_source, pour trouver son pokemon_remplacant\n",
        "for pokemon in equipe_originale:\n",
        "  #print('\\n||||On est dans la boucle pokemon dans equipe_originale, au tour de',pokemon)\n",
        "  stats_pokemon_source = cherche_stats_equipe(equipe_originale)[pokemon]\n",
        "  voisins_pokemon_source = distanceKNN.kneighbors([stats_pokemon_source])\n",
        "  for voisins in range(1,nb_voisins):\n",
        "    #print('\\n**On est dans la boucle voisins, pour le numero :',voisins)\n",
        "    #print(df_pokemon[df_pokemon['#'] == voisins_pokemon_source[1][0][voisins] +1]['Name'])\n",
        "    pokemon_remplacant = df_pokemon[df_pokemon['#'] == voisins_pokemon_source[1][0][voisins] +1]['Legendary'] == 0\n",
        "\n",
        "    \"\"\"\n",
        "    NOTE : On a parcouru l'EQUIPE\n",
        "              Puis on a parcouru les VOISINS\n",
        "                    Maintenant on test 2 choses :\n",
        "                        *  Si le test pokemon_remplacant renvoie vrai (voisin le plus proche non légendaire)\n",
        "                        *  Si ce pokémon n'a pas déjà été ajouté dans la liste.\n",
        "                          On cherche sa valeur numérique stocké dans la série pokemon_remplacant via index[0] et on utilise .count == 0 pour vérifier son absence dans la liste_remplacants.\n",
        "    \"\"\"\n",
        "    if pokemon_remplacant.bool() and liste_remplacants.count(pokemon_remplacant.index[0]) == 0:\n",
        "      # print(\"Le test bool est vrai pour les param : \\nPokemon_source :\",pokemon,\n",
        "      #       '\\nVoisin numéro :',voisins,\n",
        "      #       '\\nNumero du pokemon remplaçant :',pokemon_remplacant.index[0],\n",
        "      #       '\\nEtat de la liste des remplacants avant ajout : ',ls)\n",
        "      break\n",
        "  liste_remplacants.append(pokemon_remplacant.index[0])\n",
        "  #print('Etat de la liste après ajout : ', liste_remplacants)\n",
        "\n",
        "print(liste_remplacants)"
      ],
      "metadata": {
        "colab": {
          "base_uri": "https://localhost:8080/"
        },
        "id": "Zj6Fu4XecP-F",
        "outputId": "7fd50d5d-4860-4acf-bd25-d8fd09826cc4"
      },
      "execution_count": null,
      "outputs": [
        {
          "output_type": "stream",
          "name": "stdout",
          "text": [
            "[248, 546, 279, 271, 12, 8]\n"
          ]
        }
      ]
    },
    {
      "cell_type": "markdown",
      "source": [
        "## 5.3 On remets ça au propre avec une fonction qui prends en paramètre une équipe, et renvoie une liste de remplaçants"
      ],
      "metadata": {
        "id": "OX2LGe1lueHP"
      }
    },
    {
      "cell_type": "code",
      "source": [
        "nb_voisins=10\n",
        "distanceKNN = init_distanceKNN(nb_voisins,filtre_colonnes)\n",
        "\n",
        "def remplace_equipe(une_liste_de_pokemon):\n",
        "  liste_remplacants=[]\n",
        "\n",
        "  for pokemon in une_liste_de_pokemon:\n",
        "    stats_pokemon_source = cherche_stats_equipe(une_liste_de_pokemon)[pokemon]\n",
        "    voisins_pokemon_source = distanceKNN.kneighbors([stats_pokemon_source])\n",
        "    for voisins in range(1,nb_voisins):\n",
        "      pokemon_remplacant = df_pokemon[df_pokemon['#'] == voisins_pokemon_source[1][0][voisins] +1]['Legendary'] == 0\n",
        "      if pokemon_remplacant.bool() and liste_remplacants.count(pokemon_remplacant.index[0]) == 0:\n",
        "        break\n",
        "    liste_remplacants.append(pokemon_remplacant.index[0])\n",
        "  return liste_remplacants\n"
      ],
      "metadata": {
        "id": "KJ1cKuZWjcwX"
      },
      "execution_count": null,
      "outputs": []
    },
    {
      "cell_type": "markdown",
      "source": [
        "## 5.4 Plus de lisibilité : on convertit les numéros en noms de Pokémons"
      ],
      "metadata": {
        "id": "TebbxgP7urtD"
      }
    },
    {
      "cell_type": "code",
      "source": [
        "def convertit_numero_pokemon(liste_de_numero):\n",
        "  ls = []\n",
        "  for i in liste_de_numero:\n",
        "    ls.append(df_pokemon.iloc[i]['Name'])\n",
        "  return ls"
      ],
      "metadata": {
        "id": "tFLMcGRQpYQ0"
      },
      "execution_count": null,
      "outputs": []
    },
    {
      "cell_type": "markdown",
      "source": [
        "# 6. Enfin, on affiche la fameuse équipe"
      ],
      "metadata": {
        "id": "fWoyBYBHvE_5"
      }
    },
    {
      "cell_type": "code",
      "source": [
        "equipe_remplacee = convertit_numero_pokemon(remplace_equipe(equipe_originale))\n",
        "print(\"La liste des 6 pokemon qui remplaceront au mieux :\\n\", equipe_originale,\"\\n\\nsont : \\n\",equipe_remplacee)\n",
        "# On vérifie qu'aucun des pokemon ne soit légendaire\n",
        "print(\"\\n\\nOn affiche un dictionnaire avec en valeur le bool 'Legendary' pour s'assurer que la condition legendaires est respectée malgré la présence de Celebi et Cresselia : \\n\",\n",
        "      cherche_legendaires(equipe_remplacee))"
      ],
      "metadata": {
        "colab": {
          "base_uri": "https://localhost:8080/"
        },
        "id": "xz1MyilklCf2",
        "outputId": "6f02de7e-453f-4653-ecc1-3a3795be9422"
      },
      "execution_count": null,
      "outputs": [
        {
          "output_type": "stream",
          "name": "stdout",
          "text": [
            "La liste des 6 pokemon qui remplaceront au mieux :\n",
            " ['Mewtwo', 'Lugia', 'Rayquaza', 'Giratina', 'Dialga', 'Palkia'] \n",
            "\n",
            "sont : \n",
            " ['Mega Houndoom', 'Cresselia', 'Mega Blaziken', 'Celebi', 'Mega Blastoise', 'Mega Charizard Y']\n",
            "\n",
            "\n",
            "On affiche un dictionnaire avec en valeur le bool 'Legendary' pour s'assurer que la condition legendaires est respectée malgré la présence de Celebi et Cresselia : \n",
            " {'Mega Houndoom': 0, 'Cresselia': 0, 'Mega Blaziken': 0, 'Celebi': 0, 'Mega Blastoise': 0, 'Mega Charizard Y': 0}\n"
          ]
        }
      ]
    },
    {
      "cell_type": "code",
      "source": [
        "#On teste une autre équipe\n",
        "equipe_de_sacha = ['Pikachu', 'Lucario', 'Dragonite','Gengar','Blastoise']\n",
        "print(convertit_numero_pokemon(remplace_equipe(equipe_de_sacha)))"
      ],
      "metadata": {
        "colab": {
          "base_uri": "https://localhost:8080/"
        },
        "id": "wpB7pnLCvWP7",
        "outputId": "6cf72a27-7b06-456e-a52c-21bcaab550af"
      },
      "execution_count": null,
      "outputs": [
        {
          "output_type": "stream",
          "name": "stdout",
          "text": [
            "['Poliwag', 'Blaziken', 'Tyranitar', 'Espeon', 'Meganium']\n"
          ]
        }
      ]
    },
    {
      "cell_type": "code",
      "source": [
        "equipe = ['Salamence','Blaziken','Lugia','Suicune','Groudon','Metagross']\n",
        "convertit_numero_pokemon(remplace_equipe(equipe))"
      ],
      "metadata": {
        "colab": {
          "base_uri": "https://localhost:8080/"
        },
        "id": "WdFM5r4ypvoh",
        "outputId": "79a2f10f-6cb0-48dd-e1ea-1276c6e044ce"
      },
      "execution_count": null,
      "outputs": [
        {
          "output_type": "execute_result",
          "data": {
            "text/plain": [
              "['Mega Glalie', 'Lucario', 'Cresselia', 'Blastoise', 'Metagross', 'Tyranitar']"
            ]
          },
          "metadata": {},
          "execution_count": 15
        }
      ]
    }
  ]
}