{
  "nbformat": 4,
  "nbformat_minor": 0,
  "metadata": {
    "colab": {
      "provenance": [],
      "authorship_tag": "ABX9TyOpcVQcd9z8l0e85No5bkhn",
      "include_colab_link": true
    },
    "kernelspec": {
      "name": "python3",
      "display_name": "Python 3"
    },
    "language_info": {
      "name": "python"
    }
  },
  "cells": [
    {
      "cell_type": "markdown",
      "metadata": {
        "id": "view-in-github",
        "colab_type": "text"
      },
      "source": [
        "<a href=\"https://colab.research.google.com/github/mars241/Machine-Learning/blob/main/AAM_WCS_4_2_ML_Optimation_Pipeline_Cross_Validation.ipynb\" target=\"_parent\"><img src=\"https://colab.research.google.com/assets/colab-badge.svg\" alt=\"Open In Colab\"/></a>"
      ]
    },
    {
      "cell_type": "markdown",
      "source": [
        "# 🦾Challenge\n",
        "\n",
        "# Objectifs\n",
        "Comprendre la notion de validation croisée\n",
        "\n",
        "Savoir utiliser la validation croisée implémentée dans Scikit-Learn\n",
        "\n",
        "Nous allons nous replonger dans le Titanic. Le dataset se situe ici. A partir de [ce dataset](https://web.stanford.edu/class/archive/cs/cs109/cs109.1166/stuff/titanic.csv) :\n",
        "\n",
        "* Tu vas effectuer une classification supervisée sur la colonne \"survived\", en effectuant un traintestsplit (sans fixer le random_state), puis un classifieur de ton choix (knn, decision tree, régression logistique, etc...). Tu dois faire apparaitre clairement l'accuracy score du jeu d'entrainement et celui du jeu de test.\n",
        "\n",
        "* Dans un nouveau bloc de code, tu vas effectuer exactement la même étape que précédemment. Comme tu n'as pas fixé le random_state, le score devrait être différent.\n",
        "\n",
        "* Avec ce même classifier, tu vas lancer une crossvalidation avec un découpage en 6 parties. La CrossValidation renforce-t-elle votre confiance dans cette prédiction ?\n",
        "\n",
        "* Tu vas calculer la moyenne et l'écart-type des 6 scores obtenus.\n",
        "\n",
        "# Critères de validation\n",
        "Le notebook Colab est partagé.\n",
        "\n",
        "Une classification supervisée est effectuée, l'accuracy.\n",
        "\n",
        "Une CrossValidation est effectuée.\n",
        "\n",
        "La CrossValidation possède un découpage en 6 parties et les 6 scores sont affichés.\n",
        "\n",
        "# Contexte\n",
        "Tu connais déjà le découpage entre jeu d'entrainement et jeu de validation (le fameux TrainTestSplit).Dans cette quête tu vas découvrir la CrossValidation, ou validation croisée. Le principe est de s'appuyer sur la technique du TrainTestSplit, et de reproduire plusieurs fois ce découpage.\n",
        "\n",
        "Par exemple, si on découpe un jeu de donnée en 5 parts égales, nous pouvons prendre une première partie de 20% qui servira de jeu de validation, et les 80% restant pour l'entrainement. Puis on vient changer les 20% du jeu de validation, et ceci 5 fois de suite."
      ],
      "metadata": {
        "id": "R_SWfIWf-Ydm"
      }
    },
    {
      "cell_type": "code",
      "execution_count": null,
      "metadata": {
        "colab": {
          "base_uri": "https://localhost:8080/",
          "height": 206
        },
        "id": "fiO1Zk5p9WOW",
        "outputId": "494dd1b6-5426-4d19-f3be-1045186bcd24"
      },
      "outputs": [
        {
          "output_type": "execute_result",
          "data": {
            "text/plain": [
              "   Survived  Pclass                                               Name  \\\n",
              "0         0       3                             Mr. Owen Harris Braund   \n",
              "1         1       1  Mrs. John Bradley (Florence Briggs Thayer) Cum...   \n",
              "2         1       3                              Miss. Laina Heikkinen   \n",
              "3         1       1        Mrs. Jacques Heath (Lily May Peel) Futrelle   \n",
              "4         0       3                            Mr. William Henry Allen   \n",
              "\n",
              "      Sex   Age  Siblings/Spouses Aboard  Parents/Children Aboard     Fare  \n",
              "0    male  22.0                        1                        0   7.2500  \n",
              "1  female  38.0                        1                        0  71.2833  \n",
              "2  female  26.0                        0                        0   7.9250  \n",
              "3  female  35.0                        1                        0  53.1000  \n",
              "4    male  35.0                        0                        0   8.0500  "
            ],
            "text/html": [
              "\n",
              "  <div id=\"df-a33d66fd-7a81-4556-8301-6e63f47cec05\">\n",
              "    <div class=\"colab-df-container\">\n",
              "      <div>\n",
              "<style scoped>\n",
              "    .dataframe tbody tr th:only-of-type {\n",
              "        vertical-align: middle;\n",
              "    }\n",
              "\n",
              "    .dataframe tbody tr th {\n",
              "        vertical-align: top;\n",
              "    }\n",
              "\n",
              "    .dataframe thead th {\n",
              "        text-align: right;\n",
              "    }\n",
              "</style>\n",
              "<table border=\"1\" class=\"dataframe\">\n",
              "  <thead>\n",
              "    <tr style=\"text-align: right;\">\n",
              "      <th></th>\n",
              "      <th>Survived</th>\n",
              "      <th>Pclass</th>\n",
              "      <th>Name</th>\n",
              "      <th>Sex</th>\n",
              "      <th>Age</th>\n",
              "      <th>Siblings/Spouses Aboard</th>\n",
              "      <th>Parents/Children Aboard</th>\n",
              "      <th>Fare</th>\n",
              "    </tr>\n",
              "  </thead>\n",
              "  <tbody>\n",
              "    <tr>\n",
              "      <th>0</th>\n",
              "      <td>0</td>\n",
              "      <td>3</td>\n",
              "      <td>Mr. Owen Harris Braund</td>\n",
              "      <td>male</td>\n",
              "      <td>22.0</td>\n",
              "      <td>1</td>\n",
              "      <td>0</td>\n",
              "      <td>7.2500</td>\n",
              "    </tr>\n",
              "    <tr>\n",
              "      <th>1</th>\n",
              "      <td>1</td>\n",
              "      <td>1</td>\n",
              "      <td>Mrs. John Bradley (Florence Briggs Thayer) Cum...</td>\n",
              "      <td>female</td>\n",
              "      <td>38.0</td>\n",
              "      <td>1</td>\n",
              "      <td>0</td>\n",
              "      <td>71.2833</td>\n",
              "    </tr>\n",
              "    <tr>\n",
              "      <th>2</th>\n",
              "      <td>1</td>\n",
              "      <td>3</td>\n",
              "      <td>Miss. Laina Heikkinen</td>\n",
              "      <td>female</td>\n",
              "      <td>26.0</td>\n",
              "      <td>0</td>\n",
              "      <td>0</td>\n",
              "      <td>7.9250</td>\n",
              "    </tr>\n",
              "    <tr>\n",
              "      <th>3</th>\n",
              "      <td>1</td>\n",
              "      <td>1</td>\n",
              "      <td>Mrs. Jacques Heath (Lily May Peel) Futrelle</td>\n",
              "      <td>female</td>\n",
              "      <td>35.0</td>\n",
              "      <td>1</td>\n",
              "      <td>0</td>\n",
              "      <td>53.1000</td>\n",
              "    </tr>\n",
              "    <tr>\n",
              "      <th>4</th>\n",
              "      <td>0</td>\n",
              "      <td>3</td>\n",
              "      <td>Mr. William Henry Allen</td>\n",
              "      <td>male</td>\n",
              "      <td>35.0</td>\n",
              "      <td>0</td>\n",
              "      <td>0</td>\n",
              "      <td>8.0500</td>\n",
              "    </tr>\n",
              "  </tbody>\n",
              "</table>\n",
              "</div>\n",
              "      <button class=\"colab-df-convert\" onclick=\"convertToInteractive('df-a33d66fd-7a81-4556-8301-6e63f47cec05')\"\n",
              "              title=\"Convert this dataframe to an interactive table.\"\n",
              "              style=\"display:none;\">\n",
              "        \n",
              "  <svg xmlns=\"http://www.w3.org/2000/svg\" height=\"24px\"viewBox=\"0 0 24 24\"\n",
              "       width=\"24px\">\n",
              "    <path d=\"M0 0h24v24H0V0z\" fill=\"none\"/>\n",
              "    <path d=\"M18.56 5.44l.94 2.06.94-2.06 2.06-.94-2.06-.94-.94-2.06-.94 2.06-2.06.94zm-11 1L8.5 8.5l.94-2.06 2.06-.94-2.06-.94L8.5 2.5l-.94 2.06-2.06.94zm10 10l.94 2.06.94-2.06 2.06-.94-2.06-.94-.94-2.06-.94 2.06-2.06.94z\"/><path d=\"M17.41 7.96l-1.37-1.37c-.4-.4-.92-.59-1.43-.59-.52 0-1.04.2-1.43.59L10.3 9.45l-7.72 7.72c-.78.78-.78 2.05 0 2.83L4 21.41c.39.39.9.59 1.41.59.51 0 1.02-.2 1.41-.59l7.78-7.78 2.81-2.81c.8-.78.8-2.07 0-2.86zM5.41 20L4 18.59l7.72-7.72 1.47 1.35L5.41 20z\"/>\n",
              "  </svg>\n",
              "      </button>\n",
              "      \n",
              "  <style>\n",
              "    .colab-df-container {\n",
              "      display:flex;\n",
              "      flex-wrap:wrap;\n",
              "      gap: 12px;\n",
              "    }\n",
              "\n",
              "    .colab-df-convert {\n",
              "      background-color: #E8F0FE;\n",
              "      border: none;\n",
              "      border-radius: 50%;\n",
              "      cursor: pointer;\n",
              "      display: none;\n",
              "      fill: #1967D2;\n",
              "      height: 32px;\n",
              "      padding: 0 0 0 0;\n",
              "      width: 32px;\n",
              "    }\n",
              "\n",
              "    .colab-df-convert:hover {\n",
              "      background-color: #E2EBFA;\n",
              "      box-shadow: 0px 1px 2px rgba(60, 64, 67, 0.3), 0px 1px 3px 1px rgba(60, 64, 67, 0.15);\n",
              "      fill: #174EA6;\n",
              "    }\n",
              "\n",
              "    [theme=dark] .colab-df-convert {\n",
              "      background-color: #3B4455;\n",
              "      fill: #D2E3FC;\n",
              "    }\n",
              "\n",
              "    [theme=dark] .colab-df-convert:hover {\n",
              "      background-color: #434B5C;\n",
              "      box-shadow: 0px 1px 3px 1px rgba(0, 0, 0, 0.15);\n",
              "      filter: drop-shadow(0px 1px 2px rgba(0, 0, 0, 0.3));\n",
              "      fill: #FFFFFF;\n",
              "    }\n",
              "  </style>\n",
              "\n",
              "      <script>\n",
              "        const buttonEl =\n",
              "          document.querySelector('#df-a33d66fd-7a81-4556-8301-6e63f47cec05 button.colab-df-convert');\n",
              "        buttonEl.style.display =\n",
              "          google.colab.kernel.accessAllowed ? 'block' : 'none';\n",
              "\n",
              "        async function convertToInteractive(key) {\n",
              "          const element = document.querySelector('#df-a33d66fd-7a81-4556-8301-6e63f47cec05');\n",
              "          const dataTable =\n",
              "            await google.colab.kernel.invokeFunction('convertToInteractive',\n",
              "                                                     [key], {});\n",
              "          if (!dataTable) return;\n",
              "\n",
              "          const docLinkHtml = 'Like what you see? Visit the ' +\n",
              "            '<a target=\"_blank\" href=https://colab.research.google.com/notebooks/data_table.ipynb>data table notebook</a>'\n",
              "            + ' to learn more about interactive tables.';\n",
              "          element.innerHTML = '';\n",
              "          dataTable['output_type'] = 'display_data';\n",
              "          await google.colab.output.renderOutput(dataTable, element);\n",
              "          const docLink = document.createElement('div');\n",
              "          docLink.innerHTML = docLinkHtml;\n",
              "          element.appendChild(docLink);\n",
              "        }\n",
              "      </script>\n",
              "    </div>\n",
              "  </div>\n",
              "  "
            ]
          },
          "metadata": {},
          "execution_count": 1
        }
      ],
      "source": [
        "# Importation de la Bibliothèque pour la lecture/traitement de DF\n",
        "import pandas as pd\n",
        "import numpy as np\n",
        "\n",
        "# Importe ce dataset relatif au Titanic dans un DataFrame.\n",
        "link = \"https://web.stanford.edu/class/archive/cs/cs109/cs109.1166/stuff/titanic.csv\"\n",
        "df_titanic = pd.read_csv(link)\n",
        "df_titanic.head()"
      ]
    },
    {
      "cell_type": "markdown",
      "source": [
        "Tu vas effectuer une classification supervisée sur la colonne \"survived\", en effectuant un traintestsplit (sans fixer le random_state), puis un classifieur de ton choix (knn, decision tree, régression logistique, etc...). Tu dois faire apparaitre clairement l'accuracy score du jeu d'entrainement et celui du jeu de test."
      ],
      "metadata": {
        "id": "jG9rbuwjD3us"
      }
    },
    {
      "cell_type": "code",
      "source": [
        "# importons les bibliothèques\n",
        "from sklearn.model_selection import train_test_split\n",
        "from sklearn.neighbors import KNeighborsClassifier\n",
        "from sklearn.metrics import accuracy_score\n",
        "\n",
        "X = df_titanic.select_dtypes(include=np.number)\n",
        "y = df_titanic[\"Survived\"]\n",
        "\n",
        "# Diviser les données\n",
        "X_train, X_test, y_train, y_test = train_test_split(X, y, test_size=0.2)\n",
        "\n",
        "# Entraînement du modèle\n",
        "clf = KNeighborsClassifier()\n",
        "clf.fit(X_train, y_train)\n",
        "\n",
        "# Prédire sur l'ensemble de test\n",
        "y_pred = clf.predict(X_test)\n",
        "\n",
        "# Calculer le score de la précision\n",
        "train_accuracy = accuracy_score(y_train, clf.predict(X_train))\n",
        "test_accuracy = accuracy_score(y_test, y_pred)\n",
        "\n",
        "# Afficher les résultats\n",
        "print(\"Le Score d'exactitude (Accuracy) du *KNN* sur l'ensemble d'entraînement est\", train_accuracy)\n",
        "print(\"Le Score d'exactitude (Accuracy) du *KNN* sur l'ensemble de test est \", test_accuracy)"
      ],
      "metadata": {
        "colab": {
          "base_uri": "https://localhost:8080/"
        },
        "id": "6tV517aKC4fK",
        "outputId": "1cc7b6b5-2b5f-4fcb-914d-a3d7232320dc"
      },
      "execution_count": null,
      "outputs": [
        {
          "output_type": "stream",
          "name": "stdout",
          "text": [
            "Le Score d'exactitude (Accuracy) du *KNN* sur l'ensemble d'entraînement est 0.8349788434414669\n",
            "Le Score d'exactitude (Accuracy) du *KNN* sur l'ensemble de test est  0.8089887640449438\n"
          ]
        }
      ]
    },
    {
      "cell_type": "markdown",
      "source": [
        "Dans un nouveau bloc de code, tu vas effectuer exactement la même étape que précédemment. **Comme tu n'as pas fixé le random_state, le score devrait être différent**.\n"
      ],
      "metadata": {
        "id": "RcAPAGaIFznZ"
      }
    },
    {
      "cell_type": "code",
      "source": [
        "# importons les bibliothèques\n",
        "from sklearn.model_selection import train_test_split\n",
        "from sklearn.neighbors import KNeighborsClassifier\n",
        "from sklearn.metrics import accuracy_score\n",
        "\n",
        "X = df_titanic.select_dtypes(include=np.number)\n",
        "y = df_titanic[\"Survived\"]\n",
        "\n",
        "# Diviser les données\n",
        "X_train, X_test, y_train, y_test = train_test_split(X, y, test_size=0.2)\n",
        "\n",
        "# Entraînement du modèle\n",
        "clf = KNeighborsClassifier()\n",
        "clf.fit(X_train, y_train)\n",
        "\n",
        "# Prédire sur l'ensemble de test\n",
        "y_pred = clf.predict(X_test)\n",
        "\n",
        "# Calculer le score de la précision\n",
        "train_accuracy = accuracy_score(y_train, clf.predict(X_train))\n",
        "test_accuracy = accuracy_score(y_test, y_pred)\n",
        "\n",
        "# Afficher les résultats\n",
        "print(\"Le Score d'exactitude (Accuracy) du *KNN* sur l'ensemble d'entraînement est\", train_accuracy)\n",
        "print(\"Le Score d'exactitude (Accuracy) du *KNN* sur l'ensemble de test est\", test_accuracy)"
      ],
      "metadata": {
        "colab": {
          "base_uri": "https://localhost:8080/"
        },
        "id": "eS00rFMGFzVs",
        "outputId": "814c3982-ebc1-403b-a7d5-ca612b3ffc04"
      },
      "execution_count": null,
      "outputs": [
        {
          "output_type": "stream",
          "name": "stdout",
          "text": [
            "Le Score d'exactitude (Accuracy) du *KNN* sur l'ensemble d'entraînement est 0.846262341325811\n",
            "Le Score d'exactitude (Accuracy) du *KNN* sur l'ensemble de test est 0.7134831460674157\n"
          ]
        }
      ]
    },
    {
      "cell_type": "markdown",
      "source": [
        "Avec ce même classifier, tu vas lancer une crossvalidation avec un découpage en 6 parties. La CrossValidation renforce-t-elle votre confiance dans cette prédiction ?"
      ],
      "metadata": {
        "id": "ubslyo9lIIzP"
      }
    },
    {
      "cell_type": "code",
      "source": [
        "from sklearn.model_selection import cross_val_score\n",
        "\n",
        "# Effectuer une validation croisée 6 fois\n",
        "cv_scores = cross_val_score(clf, X, y, cv=6, scoring = 'accuracy') # clf = KNeighborsClassifier() ; \"scoring = 'accuracy'\" c'est par défaut!\n",
        "\n",
        "# Afficher les résultats\n",
        "print(\"Cross-validation scores:\", cv_scores)\n",
        "     "
      ],
      "metadata": {
        "colab": {
          "base_uri": "https://localhost:8080/"
        },
        "id": "rg7vr04gIKt2",
        "outputId": "c843bce4-06ae-4eae-93de-4992f64673f3"
      },
      "execution_count": null,
      "outputs": [
        {
          "output_type": "stream",
          "name": "stdout",
          "text": [
            "Cross-validation scores: [0.66891892 0.75675676 0.75675676 0.75       0.74324324 0.86394558]\n"
          ]
        }
      ]
    },
    {
      "cell_type": "markdown",
      "source": [
        "Tu vas calculer la moyenne et l'écart-type des 6 scores obtenus."
      ],
      "metadata": {
        "id": "L7lNVHLsIPQP"
      }
    },
    {
      "cell_type": "code",
      "source": [
        "print(\"Moyenne/Mean:\", cv_scores.mean())\n",
        "print(\"l'écart-type/Standard Deviation:\", cv_scores.std())"
      ],
      "metadata": {
        "colab": {
          "base_uri": "https://localhost:8080/"
        },
        "id": "mXj4DNA4IQnY",
        "outputId": "e68dfcde-de7d-4738-b995-aa4407c02fe0"
      },
      "execution_count": null,
      "outputs": [
        {
          "output_type": "stream",
          "name": "stdout",
          "text": [
            "Mean: 0.756603542317828\n",
            "Standard Deviation: 0.05691083254602514\n"
          ]
        }
      ]
    }
  ]
}
