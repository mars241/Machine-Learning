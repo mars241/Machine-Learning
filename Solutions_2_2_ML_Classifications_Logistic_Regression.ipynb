{
  "nbformat": 4,
  "nbformat_minor": 0,
  "metadata": {
    "colab": {
      "provenance": [],
      "include_colab_link": true
    },
    "kernelspec": {
      "name": "python3",
      "display_name": "Python 3"
    }
  },
  "cells": [
    {
      "cell_type": "markdown",
      "metadata": {
        "id": "view-in-github",
        "colab_type": "text"
      },
      "source": [
        "<a href=\"https://colab.research.google.com/github/mars241/Machine-Learning/blob/main/Solutions_2_2_ML_Classifications_Logistic_Regression.ipynb\" target=\"_parent\"><img src=\"https://colab.research.google.com/assets/colab-badge.svg\" alt=\"Open In Colab\"/></a>"
      ]
    },
    {
      "cell_type": "markdown",
      "metadata": {
        "id": "1Ap1mtkdiXwS"
      },
      "source": [
        "# Execute the code below\n",
        "You will get a passenger list of the titanic."
      ]
    },
    {
      "cell_type": "code",
      "metadata": {
        "id": "53zP-4uyicEu",
        "colab": {
          "base_uri": "https://localhost:8080/",
          "height": 204
        },
        "outputId": "d4a0e20d-9db5-4eba-c9ec-3f605ef28bfd"
      },
      "source": [
        "import matplotlib.pyplot as plt\n",
        "import pandas as pd\n",
        "import numpy as np\n",
        "import seaborn as sns\n",
        "link = \"https://raw.githubusercontent.com/murpi/wilddata/master/quests/titanic.csv\"\n",
        "df_titanic = pd.read_csv(link)\n",
        "df_titanic['Survived'] = df_titanic['Survived'].apply(lambda x: \"Survived\" if x == 1 else \"Dead\")\n",
        "df_titanic.head()"
      ],
      "execution_count": null,
      "outputs": [
        {
          "output_type": "execute_result",
          "data": {
            "text/html": [
              "<div>\n",
              "<style scoped>\n",
              "    .dataframe tbody tr th:only-of-type {\n",
              "        vertical-align: middle;\n",
              "    }\n",
              "\n",
              "    .dataframe tbody tr th {\n",
              "        vertical-align: top;\n",
              "    }\n",
              "\n",
              "    .dataframe thead th {\n",
              "        text-align: right;\n",
              "    }\n",
              "</style>\n",
              "<table border=\"1\" class=\"dataframe\">\n",
              "  <thead>\n",
              "    <tr style=\"text-align: right;\">\n",
              "      <th></th>\n",
              "      <th>Survived</th>\n",
              "      <th>Pclass</th>\n",
              "      <th>Name</th>\n",
              "      <th>Sex</th>\n",
              "      <th>Age</th>\n",
              "      <th>Siblings/Spouses Aboard</th>\n",
              "      <th>Parents/Children Aboard</th>\n",
              "      <th>Fare</th>\n",
              "    </tr>\n",
              "  </thead>\n",
              "  <tbody>\n",
              "    <tr>\n",
              "      <th>0</th>\n",
              "      <td>Dead</td>\n",
              "      <td>3</td>\n",
              "      <td>Mr. Owen Harris Braund</td>\n",
              "      <td>male</td>\n",
              "      <td>22.0</td>\n",
              "      <td>1</td>\n",
              "      <td>0</td>\n",
              "      <td>7.2500</td>\n",
              "    </tr>\n",
              "    <tr>\n",
              "      <th>1</th>\n",
              "      <td>Survived</td>\n",
              "      <td>1</td>\n",
              "      <td>Mrs. John Bradley (Florence Briggs Thayer) Cum...</td>\n",
              "      <td>female</td>\n",
              "      <td>38.0</td>\n",
              "      <td>1</td>\n",
              "      <td>0</td>\n",
              "      <td>71.2833</td>\n",
              "    </tr>\n",
              "    <tr>\n",
              "      <th>2</th>\n",
              "      <td>Survived</td>\n",
              "      <td>3</td>\n",
              "      <td>Miss. Laina Heikkinen</td>\n",
              "      <td>female</td>\n",
              "      <td>26.0</td>\n",
              "      <td>0</td>\n",
              "      <td>0</td>\n",
              "      <td>7.9250</td>\n",
              "    </tr>\n",
              "    <tr>\n",
              "      <th>3</th>\n",
              "      <td>Survived</td>\n",
              "      <td>1</td>\n",
              "      <td>Mrs. Jacques Heath (Lily May Peel) Futrelle</td>\n",
              "      <td>female</td>\n",
              "      <td>35.0</td>\n",
              "      <td>1</td>\n",
              "      <td>0</td>\n",
              "      <td>53.1000</td>\n",
              "    </tr>\n",
              "    <tr>\n",
              "      <th>4</th>\n",
              "      <td>Dead</td>\n",
              "      <td>3</td>\n",
              "      <td>Mr. William Henry Allen</td>\n",
              "      <td>male</td>\n",
              "      <td>35.0</td>\n",
              "      <td>0</td>\n",
              "      <td>0</td>\n",
              "      <td>8.0500</td>\n",
              "    </tr>\n",
              "  </tbody>\n",
              "</table>\n",
              "</div>"
            ],
            "text/plain": [
              "   Survived  Pclass  ... Parents/Children Aboard     Fare\n",
              "0      Dead       3  ...                       0   7.2500\n",
              "1  Survived       1  ...                       0  71.2833\n",
              "2  Survived       3  ...                       0   7.9250\n",
              "3  Survived       1  ...                       0  53.1000\n",
              "4      Dead       3  ...                       0   8.0500\n",
              "\n",
              "[5 rows x 8 columns]"
            ]
          },
          "metadata": {},
          "execution_count": 1
        }
      ]
    },
    {
      "cell_type": "markdown",
      "metadata": {
        "id": "wPKc4UTfjM7t"
      },
      "source": [
        "# Data preparation"
      ]
    },
    {
      "cell_type": "markdown",
      "metadata": {
        "id": "ew_BixpIjRl1"
      },
      "source": [
        "What are the \"type\" of each column? Are there non-numeric columns?"
      ]
    },
    {
      "cell_type": "code",
      "metadata": {
        "id": "0LCDhqijixTR",
        "colab": {
          "base_uri": "https://localhost:8080/"
        },
        "outputId": "d9115d41-54d5-443a-df92-753e095826ee"
      },
      "source": [
        "# What are the \"type\" of each column?\n",
        "df_titanic.info()\n"
      ],
      "execution_count": null,
      "outputs": [
        {
          "output_type": "stream",
          "name": "stdout",
          "text": [
            "<class 'pandas.core.frame.DataFrame'>\n",
            "RangeIndex: 887 entries, 0 to 886\n",
            "Data columns (total 8 columns):\n",
            " #   Column                   Non-Null Count  Dtype  \n",
            "---  ------                   --------------  -----  \n",
            " 0   Survived                 887 non-null    object \n",
            " 1   Pclass                   887 non-null    int64  \n",
            " 2   Name                     887 non-null    object \n",
            " 3   Sex                      887 non-null    object \n",
            " 4   Age                      887 non-null    float64\n",
            " 5   Siblings/Spouses Aboard  887 non-null    int64  \n",
            " 6   Parents/Children Aboard  887 non-null    int64  \n",
            " 7   Fare                     887 non-null    float64\n",
            "dtypes: float64(2), int64(3), object(3)\n",
            "memory usage: 55.6+ KB\n"
          ]
        }
      ]
    },
    {
      "cell_type": "code",
      "metadata": {
        "colab": {
          "base_uri": "https://localhost:8080/"
        },
        "id": "plmyLimiRPcb",
        "outputId": "40382e76-cfd3-41b4-d13a-3ee8ba33e4b9"
      },
      "source": [
        "df_titanic['Survived'].value_counts(dropna=False)"
      ],
      "execution_count": null,
      "outputs": [
        {
          "output_type": "execute_result",
          "data": {
            "text/plain": [
              "Dead        545\n",
              "Survived    342\n",
              "Name: Survived, dtype: int64"
            ]
          },
          "metadata": {},
          "execution_count": 21
        }
      ]
    },
    {
      "cell_type": "code",
      "metadata": {
        "colab": {
          "base_uri": "https://localhost:8080/"
        },
        "id": "IfEW67xmRU-R",
        "outputId": "bbe0e966-ae80-4e27-a515-9f3ba536c9c8"
      },
      "source": [
        "df_titanic['Survived_facto'] = df_titanic['Survived'].factorize()[0]\n",
        "df_titanic['Survived_facto'].value_counts()"
      ],
      "execution_count": null,
      "outputs": [
        {
          "output_type": "execute_result",
          "data": {
            "text/plain": [
              "0    545\n",
              "1    342\n",
              "Name: Survived_facto, dtype: int64"
            ]
          },
          "metadata": {},
          "execution_count": 23
        }
      ]
    },
    {
      "cell_type": "code",
      "metadata": {
        "colab": {
          "base_uri": "https://localhost:8080/"
        },
        "id": "L4V7ZfLLQLO_",
        "outputId": "fb4b5dec-aab9-4fbf-d66b-d16fc5ddd57b"
      },
      "source": [
        "df_titanic['Sex'].value_counts(dropna=False)"
      ],
      "execution_count": null,
      "outputs": [
        {
          "output_type": "execute_result",
          "data": {
            "text/plain": [
              "male      573\n",
              "female    314\n",
              "Name: Sex, dtype: int64"
            ]
          },
          "metadata": {},
          "execution_count": 4
        }
      ]
    },
    {
      "cell_type": "code",
      "metadata": {
        "colab": {
          "base_uri": "https://localhost:8080/"
        },
        "id": "M6C-CByFQdBG",
        "outputId": "a7e9af33-ab0c-4e52-ea0b-ae00c15fabfa"
      },
      "source": [
        "df_titanic['Sex_facto'] = df_titanic['Sex'].factorize()[0]\n",
        "df_titanic['Sex_facto'].value_counts()"
      ],
      "execution_count": null,
      "outputs": [
        {
          "output_type": "execute_result",
          "data": {
            "text/plain": [
              "0    573\n",
              "1    314\n",
              "Name: Sex_facto, dtype: int64"
            ]
          },
          "metadata": {},
          "execution_count": 17
        }
      ]
    },
    {
      "cell_type": "code",
      "metadata": {
        "colab": {
          "base_uri": "https://localhost:8080/"
        },
        "id": "fWpJwKmFQYoi",
        "outputId": "bdca5d6b-332e-41d3-ceca-1bb16ae9dbce"
      },
      "source": [
        "df_titanic['Pclass'].value_counts(dropna=False)"
      ],
      "execution_count": null,
      "outputs": [
        {
          "output_type": "execute_result",
          "data": {
            "text/plain": [
              "3    487\n",
              "1    216\n",
              "2    184\n",
              "Name: Pclass, dtype: int64"
            ]
          },
          "metadata": {},
          "execution_count": 5
        }
      ]
    },
    {
      "cell_type": "code",
      "metadata": {
        "id": "pjRIZe9TQycX"
      },
      "source": [
        "df_titanic['Pclass'] = pd.to_numeric(df_titanic['Pclass'])"
      ],
      "execution_count": null,
      "outputs": []
    },
    {
      "cell_type": "code",
      "metadata": {
        "colab": {
          "base_uri": "https://localhost:8080/"
        },
        "id": "v_4hkcdcQ5Td",
        "outputId": "e8e4b08e-be25-4f65-fc99-662b03f2b683"
      },
      "source": [
        "df_titanic.info()"
      ],
      "execution_count": null,
      "outputs": [
        {
          "output_type": "stream",
          "name": "stdout",
          "text": [
            "<class 'pandas.core.frame.DataFrame'>\n",
            "RangeIndex: 887 entries, 0 to 886\n",
            "Data columns (total 10 columns):\n",
            " #   Column                   Non-Null Count  Dtype  \n",
            "---  ------                   --------------  -----  \n",
            " 0   Survived                 887 non-null    object \n",
            " 1   Pclass                   887 non-null    int64  \n",
            " 2   Name                     887 non-null    object \n",
            " 3   Sex                      887 non-null    object \n",
            " 4   Age                      887 non-null    float64\n",
            " 5   Siblings/Spouses Aboard  887 non-null    int64  \n",
            " 6   Parents/Children Aboard  887 non-null    int64  \n",
            " 7   Fare                     887 non-null    float64\n",
            " 8   Sex_facto                887 non-null    int64  \n",
            " 9   Survived_facto           887 non-null    int64  \n",
            "dtypes: float64(2), int64(5), object(3)\n",
            "memory usage: 69.4+ KB\n"
          ]
        }
      ]
    },
    {
      "cell_type": "code",
      "metadata": {
        "id": "HGZ5ty-wSFCJ",
        "colab": {
          "base_uri": "https://localhost:8080/"
        },
        "outputId": "284b39bf-163a-49e3-d6ee-459fb4fb25d3"
      },
      "source": [
        "df_titanic.isna().sum()"
      ],
      "execution_count": null,
      "outputs": [
        {
          "output_type": "execute_result",
          "data": {
            "text/plain": [
              "Survived                   0\n",
              "Pclass                     0\n",
              "Name                       0\n",
              "Sex                        0\n",
              "Age                        0\n",
              "Siblings/Spouses Aboard    0\n",
              "Parents/Children Aboard    0\n",
              "Fare                       0\n",
              "Sex_facto                  0\n",
              "Survived_facto             0\n",
              "dtype: int64"
            ]
          },
          "metadata": {},
          "execution_count": 38
        }
      ]
    },
    {
      "cell_type": "code",
      "metadata": {
        "colab": {
          "base_uri": "https://localhost:8080/"
        },
        "id": "c-oSAGkoT7um",
        "outputId": "80d7e9b5-03a8-42a1-8e73-df8ad6f3c4ae"
      },
      "source": [
        "df_titanic.drop_duplicates().shape"
      ],
      "execution_count": null,
      "outputs": [
        {
          "output_type": "execute_result",
          "data": {
            "text/plain": [
              "(887, 10)"
            ]
          },
          "metadata": {},
          "execution_count": 42
        }
      ]
    },
    {
      "cell_type": "code",
      "metadata": {
        "colab": {
          "base_uri": "https://localhost:8080/"
        },
        "id": "MKHMCx9LUFSg",
        "outputId": "7248cab4-bdfe-4ac4-a384-d7772222c28d"
      },
      "source": [
        "df_titanic.shape"
      ],
      "execution_count": null,
      "outputs": [
        {
          "output_type": "execute_result",
          "data": {
            "text/plain": [
              "(887, 10)"
            ]
          },
          "metadata": {},
          "execution_count": 43
        }
      ]
    },
    {
      "cell_type": "markdown",
      "metadata": {
        "id": "bHR5fxjtmcWN"
      },
      "source": [
        "Then, make a first exploration (pairplots, correlation heatmaps, etc...) of the dataset"
      ]
    },
    {
      "cell_type": "code",
      "metadata": {
        "id": "0hyLZ_pYnJYs",
        "colab": {
          "base_uri": "https://localhost:8080/",
          "height": 399
        },
        "outputId": "505e1af2-5ee4-4f41-e233-1c85a88607d3"
      },
      "source": [
        "# First exploration:\n",
        "import seaborn as sns\n",
        "import matplotlib.pyplot as plt\n",
        "\n",
        "titanic = df_titanic.drop(columns = ['Survived', 'Name', 'Sex'])\n",
        "\n",
        "corr_titanic = titanic.corr()\n",
        "sns.heatmap(corr_titanic, cmap='vlag')"
      ],
      "execution_count": null,
      "outputs": [
        {
          "output_type": "execute_result",
          "data": {
            "text/plain": [
              "<matplotlib.axes._subplots.AxesSubplot at 0x7f46376417d0>"
            ]
          },
          "metadata": {},
          "execution_count": 37
        },
        {
          "output_type": "display_data",
          "data": {
            "image/png": "[encoded data removed]",
            "text/plain": [
              "<Figure size 432x288 with 2 Axes>"
            ]
          },
          "metadata": {
            "needs_background": "light"
          }
        }
      ]
    },
    {
      "cell_type": "code",
      "metadata": {
        "colab": {
          "base_uri": "https://localhost:8080/",
          "height": 296
        },
        "id": "SPm9O22qUIwP",
        "outputId": "9b22611d-12c5-4872-a1ed-efc7a5f8da8c"
      },
      "source": [
        "sns.boxplot(data=df_titanic, x='Age')"
      ],
      "execution_count": null,
      "outputs": [
        {
          "output_type": "execute_result",
          "data": {
            "text/plain": [
              "<matplotlib.axes._subplots.AxesSubplot at 0x7f463757f210>"
            ]
          },
          "metadata": {},
          "execution_count": 44
        },
        {
          "output_type": "display_data",
          "data": {
            "image/png": "[encoded data removed]",
            "text/plain": [
              "<Figure size 432x288 with 1 Axes>"
            ]
          },
          "metadata": {
            "needs_background": "light"
          }
        }
      ]
    },
    {
      "cell_type": "code",
      "metadata": {
        "colab": {
          "base_uri": "https://localhost:8080/",
          "height": 296
        },
        "id": "eTDedYnkUPvG",
        "outputId": "ef282518-07e8-420f-eaac-31d970acee96"
      },
      "source": [
        "sns.boxplot(data=df_titanic, x='Siblings/Spouses Aboard')"
      ],
      "execution_count": null,
      "outputs": [
        {
          "output_type": "execute_result",
          "data": {
            "text/plain": [
              "<matplotlib.axes._subplots.AxesSubplot at 0x7f46377b1b90>"
            ]
          },
          "metadata": {},
          "execution_count": 46
        },
        {
          "output_type": "display_data",
          "data": {
            "image/png": "[encoded data removed]",
            "text/plain": [
              "<Figure size 432x288 with 1 Axes>"
            ]
          },
          "metadata": {
            "needs_background": "light"
          }
        }
      ]
    },
    {
      "cell_type": "code",
      "metadata": {
        "colab": {
          "base_uri": "https://localhost:8080/",
          "height": 296
        },
        "id": "k6qbFIrqUWOa",
        "outputId": "f74a6c97-cb35-405c-f176-a5f30841aa6d"
      },
      "source": [
        "sns.boxplot(data=df_titanic, x='Parents/Children Aboard')"
      ],
      "execution_count": null,
      "outputs": [
        {
          "output_type": "execute_result",
          "data": {
            "text/plain": [
              "<matplotlib.axes._subplots.AxesSubplot at 0x7f4637907210>"
            ]
          },
          "metadata": {},
          "execution_count": 47
        },
        {
          "output_type": "display_data",
          "data": {
            "image/png": "[encoded data removed]",
            "text/plain": [
              "<Figure size 432x288 with 1 Axes>"
            ]
          },
          "metadata": {
            "needs_background": "light"
          }
        }
      ]
    },
    {
      "cell_type": "code",
      "metadata": {
        "colab": {
          "base_uri": "https://localhost:8080/",
          "height": 296
        },
        "id": "OZYrwvcVUvFz",
        "outputId": "a41e3e49-ef26-4ad5-8c59-f01175f25d5a"
      },
      "source": [
        "sns.histplot(data=df_titanic, x='Fare')"
      ],
      "execution_count": null,
      "outputs": [
        {
          "output_type": "execute_result",
          "data": {
            "text/plain": [
              "<matplotlib.axes._subplots.AxesSubplot at 0x7f46374c1390>"
            ]
          },
          "metadata": {},
          "execution_count": 49
        },
        {
          "output_type": "display_data",
          "data": {
            "image/png": "[encoded data removed]",
            "text/plain": [
              "<Figure size 432x288 with 1 Axes>"
            ]
          },
          "metadata": {
            "needs_background": "light"
          }
        }
      ]
    },
    {
      "cell_type": "code",
      "metadata": {
        "colab": {
          "base_uri": "https://localhost:8080/",
          "height": 296
        },
        "id": "Mtv92ES-U9Xc",
        "outputId": "f68493aa-7150-41b8-b297-a05ff44c75ab"
      },
      "source": [
        "sns.boxplot(data=df_titanic, x='Fare')"
      ],
      "execution_count": null,
      "outputs": [
        {
          "output_type": "execute_result",
          "data": {
            "text/plain": [
              "<matplotlib.axes._subplots.AxesSubplot at 0x7f4636097890>"
            ]
          },
          "metadata": {},
          "execution_count": 50
        },
        {
          "output_type": "display_data",
          "data": {
            "image/png": "[encoded data removed]",
            "text/plain": [
              "<Figure size 432x288 with 1 Axes>"
            ]
          },
          "metadata": {
            "needs_background": "light"
          }
        }
      ]
    },
    {
      "cell_type": "code",
      "metadata": {
        "colab": {
          "base_uri": "https://localhost:8080/",
          "height": 176
        },
        "id": "LtXJnLCDVCy8",
        "outputId": "f1ec3e30-bbfb-42be-ce45-157c75ef90bd"
      },
      "source": [
        "df_titanic.loc[df_titanic['Fare'] > 300]"
      ],
      "execution_count": null,
      "outputs": [
        {
          "output_type": "execute_result",
          "data": {
            "text/html": [
              "<div>\n",
              "<style scoped>\n",
              "    .dataframe tbody tr th:only-of-type {\n",
              "        vertical-align: middle;\n",
              "    }\n",
              "\n",
              "    .dataframe tbody tr th {\n",
              "        vertical-align: top;\n",
              "    }\n",
              "\n",
              "    .dataframe thead th {\n",
              "        text-align: right;\n",
              "    }\n",
              "</style>\n",
              "<table border=\"1\" class=\"dataframe\">\n",
              "  <thead>\n",
              "    <tr style=\"text-align: right;\">\n",
              "      <th></th>\n",
              "      <th>Survived</th>\n",
              "      <th>Pclass</th>\n",
              "      <th>Name</th>\n",
              "      <th>Sex</th>\n",
              "      <th>Age</th>\n",
              "      <th>Siblings/Spouses Aboard</th>\n",
              "      <th>Parents/Children Aboard</th>\n",
              "      <th>Fare</th>\n",
              "      <th>Sex_facto</th>\n",
              "      <th>Survived_facto</th>\n",
              "    </tr>\n",
              "  </thead>\n",
              "  <tbody>\n",
              "    <tr>\n",
              "      <th>257</th>\n",
              "      <td>Survived</td>\n",
              "      <td>1</td>\n",
              "      <td>Miss. Anna Ward</td>\n",
              "      <td>female</td>\n",
              "      <td>35.0</td>\n",
              "      <td>0</td>\n",
              "      <td>0</td>\n",
              "      <td>512.3292</td>\n",
              "      <td>1</td>\n",
              "      <td>1</td>\n",
              "    </tr>\n",
              "    <tr>\n",
              "      <th>676</th>\n",
              "      <td>Survived</td>\n",
              "      <td>1</td>\n",
              "      <td>Mr. Thomas Drake Martinez Cardeza</td>\n",
              "      <td>male</td>\n",
              "      <td>36.0</td>\n",
              "      <td>0</td>\n",
              "      <td>1</td>\n",
              "      <td>512.3292</td>\n",
              "      <td>0</td>\n",
              "      <td>1</td>\n",
              "    </tr>\n",
              "    <tr>\n",
              "      <th>733</th>\n",
              "      <td>Survived</td>\n",
              "      <td>1</td>\n",
              "      <td>Mr. Gustave J Lesurer</td>\n",
              "      <td>male</td>\n",
              "      <td>35.0</td>\n",
              "      <td>0</td>\n",
              "      <td>0</td>\n",
              "      <td>512.3292</td>\n",
              "      <td>0</td>\n",
              "      <td>1</td>\n",
              "    </tr>\n",
              "  </tbody>\n",
              "</table>\n",
              "</div>"
            ],
            "text/plain": [
              "     Survived  Pclass  ... Sex_facto Survived_facto\n",
              "257  Survived       1  ...         1              1\n",
              "676  Survived       1  ...         0              1\n",
              "733  Survived       1  ...         0              1\n",
              "\n",
              "[3 rows x 10 columns]"
            ]
          },
          "metadata": {},
          "execution_count": 51
        }
      ]
    },
    {
      "cell_type": "markdown",
      "metadata": {
        "id": "Sdzi-h3un-XT"
      },
      "source": [
        "You are looking for Jack. How many people named Jack on board?"
      ]
    },
    {
      "cell_type": "code",
      "metadata": {
        "id": "UDGn6qWIn7Ql",
        "colab": {
          "base_uri": "https://localhost:8080/",
          "height": 114
        },
        "outputId": "9bd62f98-7361-4c3f-811b-19515510ab1c"
      },
      "source": [
        "# How many people named Jack on board?\n",
        "df_titanic[df_titanic['Name'].str.contains('Jack')]"
      ],
      "execution_count": null,
      "outputs": [
        {
          "output_type": "execute_result",
          "data": {
            "text/html": [
              "<div>\n",
              "<style scoped>\n",
              "    .dataframe tbody tr th:only-of-type {\n",
              "        vertical-align: middle;\n",
              "    }\n",
              "\n",
              "    .dataframe tbody tr th {\n",
              "        vertical-align: top;\n",
              "    }\n",
              "\n",
              "    .dataframe thead th {\n",
              "        text-align: right;\n",
              "    }\n",
              "</style>\n",
              "<table border=\"1\" class=\"dataframe\">\n",
              "  <thead>\n",
              "    <tr style=\"text-align: right;\">\n",
              "      <th></th>\n",
              "      <th>Survived</th>\n",
              "      <th>Pclass</th>\n",
              "      <th>Name</th>\n",
              "      <th>Sex</th>\n",
              "      <th>Age</th>\n",
              "      <th>Siblings/Spouses Aboard</th>\n",
              "      <th>Parents/Children Aboard</th>\n",
              "      <th>Fare</th>\n",
              "      <th>Sex_facto</th>\n",
              "      <th>Survived_facto</th>\n",
              "    </tr>\n",
              "  </thead>\n",
              "  <tbody>\n",
              "    <tr>\n",
              "      <th>762</th>\n",
              "      <td>Dead</td>\n",
              "      <td>1</td>\n",
              "      <td>Dr. Arthur Jackson Brewe</td>\n",
              "      <td>male</td>\n",
              "      <td>46.0</td>\n",
              "      <td>0</td>\n",
              "      <td>0</td>\n",
              "      <td>39.6</td>\n",
              "      <td>0</td>\n",
              "      <td>0</td>\n",
              "    </tr>\n",
              "  </tbody>\n",
              "</table>\n",
              "</div>"
            ],
            "text/plain": [
              "    Survived  Pclass                      Name  ...  Fare  Sex_facto  Survived_facto\n",
              "762     Dead       1  Dr. Arthur Jackson Brewe  ...  39.6          0               0\n",
              "\n",
              "[1 rows x 10 columns]"
            ]
          },
          "metadata": {},
          "execution_count": 55
        }
      ]
    },
    {
      "cell_type": "markdown",
      "metadata": {
        "id": "vpruBrCOnOw8"
      },
      "source": [
        "# Logistic regression\n",
        "\n",
        "Today, in this quest, you have an extraordinary power: you can travel in time to try to save some passengers.\n",
        "You obviously wanted to save Jack. But you didn't find his name on the list. He probably travels under a false name...\n",
        "Too bad, thanks to this trip, you will still try to save as many people as possible. To do this, you have to identify the people who are most probably going to die.\n",
        "\n",
        "- Select features (X) with only numeric values, and without \"Survived\" column\n",
        "- Select \"Survived\" column as target (y)\n",
        "- Split your data with **random_state = 36**\n",
        "- Train a logistic regression\n",
        "- Print the accuracy score on the train set and on the test set. Is there overfitting?\n",
        "- Print the Confusion Matrix on the test set\n",
        "- How many iterations were needed to train this model?"
      ]
    },
    {
      "cell_type": "code",
      "metadata": {
        "id": "UpXqf6uNq3b6"
      },
      "source": [
        "# It's up to you:\n",
        "\n",
        "X = titanic.drop(columns='Survived_facto')\n",
        "y = df_titanic['Survived']\n"
      ],
      "execution_count": null,
      "outputs": []
    },
    {
      "cell_type": "code",
      "metadata": {
        "id": "i8MWYKg1WSuS"
      },
      "source": [
        "from sklearn.linear_model import LogisticRegression\n",
        "from sklearn.model_selection import train_test_split\n",
        "\n",
        "X_train, X_test, y_train, y_test = train_test_split(X, y, random_state = 36, train_size= 0.7)"
      ],
      "execution_count": null,
      "outputs": []
    },
    {
      "cell_type": "code",
      "metadata": {
        "id": "fGpfZknjWkzo"
      },
      "source": [
        "log_model = LogisticRegression().fit(X_train, y_train)"
      ],
      "execution_count": null,
      "outputs": []
    },
    {
      "cell_type": "code",
      "metadata": {
        "colab": {
          "base_uri": "https://localhost:8080/"
        },
        "id": "woxvqOpWWtg_",
        "outputId": "a8e91aa1-1cd0-4e00-fe10-23df8a0fc5f2"
      },
      "source": [
        "print('accuracy score on train set :',log_model.score(X_train, y_train))\n",
        "print('accuracy score on test set :',log_model.score(X_test, y_test))"
      ],
      "execution_count": null,
      "outputs": [
        {
          "output_type": "stream",
          "name": "stdout",
          "text": [
            "accuracy score on train set : 0.8112903225806452\n",
            "accuracy score on test set : 0.8014981273408239\n"
          ]
        }
      ]
    },
    {
      "cell_type": "markdown",
      "metadata": {
        "id": "diaavbOgXoD0"
      },
      "source": [
        "--> modèle bien ajusté"
      ]
    },
    {
      "cell_type": "code",
      "metadata": {
        "colab": {
          "base_uri": "https://localhost:8080/",
          "height": 111
        },
        "id": "6bRRuQjZXsz5",
        "outputId": "e2a43ab2-98fd-4678-b0dd-c59e46a60fd8"
      },
      "source": [
        "from sklearn.metrics import confusion_matrix\n",
        "pd.DataFrame(data = confusion_matrix(y_true = y_test, y_pred = log_model.predict(X_test)),\n",
        "             index = log_model.classes_ + \" ACTUAL\",\n",
        "             columns = log_model.classes_ + \" PREDICTED\")"
      ],
      "execution_count": null,
      "outputs": [
        {
          "output_type": "execute_result",
          "data": {
            "text/html": [
              "<div>\n",
              "<style scoped>\n",
              "    .dataframe tbody tr th:only-of-type {\n",
              "        vertical-align: middle;\n",
              "    }\n",
              "\n",
              "    .dataframe tbody tr th {\n",
              "        vertical-align: top;\n",
              "    }\n",
              "\n",
              "    .dataframe thead th {\n",
              "        text-align: right;\n",
              "    }\n",
              "</style>\n",
              "<table border=\"1\" class=\"dataframe\">\n",
              "  <thead>\n",
              "    <tr style=\"text-align: right;\">\n",
              "      <th></th>\n",
              "      <th>Dead PREDICTED</th>\n",
              "      <th>Survived PREDICTED</th>\n",
              "    </tr>\n",
              "  </thead>\n",
              "  <tbody>\n",
              "    <tr>\n",
              "      <th>Dead ACTUAL</th>\n",
              "      <td>138</td>\n",
              "      <td>23</td>\n",
              "    </tr>\n",
              "    <tr>\n",
              "      <th>Survived ACTUAL</th>\n",
              "      <td>30</td>\n",
              "      <td>76</td>\n",
              "    </tr>\n",
              "  </tbody>\n",
              "</table>\n",
              "</div>"
            ],
            "text/plain": [
              "                 Dead PREDICTED  Survived PREDICTED\n",
              "Dead ACTUAL                 138                  23\n",
              "Survived ACTUAL              30                  76"
            ]
          },
          "metadata": {},
          "execution_count": 170
        }
      ]
    },
    {
      "cell_type": "code",
      "metadata": {
        "colab": {
          "base_uri": "https://localhost:8080/"
        },
        "id": "fxVn2KOCYZj6",
        "outputId": "96177a6a-6516-4e9e-cbf8-7d5e851361a1"
      },
      "source": [
        "log_model\n",
        "#--> par défaut : 100 itérations (paramètre 'max_iter')"
      ],
      "execution_count": null,
      "outputs": [
        {
          "output_type": "execute_result",
          "data": {
            "text/plain": [
              "LogisticRegression(C=1.0, class_weight=None, dual=False, fit_intercept=True,\n",
              "                   intercept_scaling=1, l1_ratio=None, max_iter=100,\n",
              "                   multi_class='auto', n_jobs=None, penalty='l2',\n",
              "                   random_state=None, solver='lbfgs', tol=0.0001, verbose=0,\n",
              "                   warm_start=False)"
            ]
          },
          "metadata": {},
          "execution_count": 171
        }
      ]
    },
    {
      "cell_type": "markdown",
      "metadata": {
        "id": "SJ4z3yi9w5Ja"
      },
      "source": [
        "# Model improvement\n",
        "\n",
        "With your fancy time machine, you can, and you will save all the people that the model will predict as dead. But you won't save people predicted as \"survived\" (because it's not necessary). So change the weights of the classes to be very careful: your goal is to save all the people at risk. So, in this case, it's better to have \"actual survived\" peopple predicted as death, because you'll save them anyway. Otherwise, \"actual death\" predicted as survived won't be saved by your time machine.\n",
        "- Change the weight of the classes\n",
        "- Fit the model on train set\n",
        "- Print the accuracy score on the train set and on the test set\n",
        "- Print the Confusion Matrix on the test set, you must have no deaths that have been predicted as \"Survived\"."
      ]
    },
    {
      "cell_type": "code",
      "metadata": {
        "id": "3UrojSLL8whJ"
      },
      "source": [
        "# It's up to you to save everybody:\n",
        "log_model_2 = LogisticRegression(class_weight={'Dead':10})\n",
        "log_model_2.fit(X_train, y_train)"
      ],
      "execution_count": null,
      "outputs": []
    },
    {
      "cell_type": "code",
      "metadata": {
        "colab": {
          "base_uri": "https://localhost:8080/"
        },
        "id": "GzLD_umrZdu6",
        "outputId": "d8c026fa-e2b6-46bf-e2d8-14d86f47135e"
      },
      "source": [
        "print('accuracy score on train set :',log_model_2.score(X_train, y_train))\n",
        "print('accuracy score on test set :',log_model_2.score(X_test, y_test))"
      ],
      "execution_count": null,
      "outputs": [
        {
          "output_type": "stream",
          "name": "stdout",
          "text": [
            "accuracy score on train set : 0.7161290322580646\n",
            "accuracy score on test set : 0.6741573033707865\n"
          ]
        }
      ]
    },
    {
      "cell_type": "code",
      "metadata": {
        "colab": {
          "base_uri": "https://localhost:8080/",
          "height": 111
        },
        "id": "uD9hDxagZtFw",
        "outputId": "83a477eb-9be8-4aeb-9b88-3ad52960720d"
      },
      "source": [
        "#Print the Confusion Matrix on the test set, you must have no deaths that have been predicted as \"Survived\".\n",
        "pd.DataFrame(data = confusion_matrix(y_true = y_test, y_pred = log_model_2.predict(X_test)),\n",
        "             index = log_model_2.classes_ + \" ACTUAL\",\n",
        "             columns = log_model_2.classes_ + \" PREDICTED\")"
      ],
      "execution_count": null,
      "outputs": [
        {
          "output_type": "execute_result",
          "data": {
            "text/html": [
              "<div>\n",
              "<style scoped>\n",
              "    .dataframe tbody tr th:only-of-type {\n",
              "        vertical-align: middle;\n",
              "    }\n",
              "\n",
              "    .dataframe tbody tr th {\n",
              "        vertical-align: top;\n",
              "    }\n",
              "\n",
              "    .dataframe thead th {\n",
              "        text-align: right;\n",
              "    }\n",
              "</style>\n",
              "<table border=\"1\" class=\"dataframe\">\n",
              "  <thead>\n",
              "    <tr style=\"text-align: right;\">\n",
              "      <th></th>\n",
              "      <th>Dead PREDICTED</th>\n",
              "      <th>Survived PREDICTED</th>\n",
              "    </tr>\n",
              "  </thead>\n",
              "  <tbody>\n",
              "    <tr>\n",
              "      <th>Dead ACTUAL</th>\n",
              "      <td>161</td>\n",
              "      <td>0</td>\n",
              "    </tr>\n",
              "    <tr>\n",
              "      <th>Survived ACTUAL</th>\n",
              "      <td>87</td>\n",
              "      <td>19</td>\n",
              "    </tr>\n",
              "  </tbody>\n",
              "</table>\n",
              "</div>"
            ],
            "text/plain": [
              "                 Dead PREDICTED  Survived PREDICTED\n",
              "Dead ACTUAL                 161                   0\n",
              "Survived ACTUAL              87                  19"
            ]
          },
          "metadata": {},
          "execution_count": 174
        }
      ]
    },
    {
      "cell_type": "markdown",
      "metadata": {
        "id": "hZzv1nztzdbf"
      },
      "source": [
        "# People most at risk\n",
        "\n",
        "You are looking for people most at risk.\n",
        "- Compute the prediction probabilities **on your test set**\n",
        "- Which column is about \"survived\" probability?\n",
        "- Among the previous prediction probability array, select only the column corresponding to the \"Survived\" probability\n",
        "- Display the passengers by sorting  most likely to survive first (`sorted_values()` method?)"
      ]
    },
    {
      "cell_type": "code",
      "metadata": {
        "id": "FEj-ZIQp0WUn"
      },
      "source": [
        "# It's up to you:\n",
        "#X_test['predictions'] = log_model.predict(X_test)"
      ],
      "execution_count": null,
      "outputs": []
    },
    {
      "cell_type": "code",
      "metadata": {
        "id": "p4rsue0MbY8n"
      },
      "source": [
        "X_test_proba = log_model.predict_proba(X_test)\n",
        "X_test_proba"
      ],
      "execution_count": null,
      "outputs": []
    },
    {
      "cell_type": "code",
      "metadata": {
        "id": "zu__eIenboCa"
      },
      "source": [
        "#Among the previous prediction probability array, select only the column corresponding to the \"Survived\" probability\n",
        "X_test['proba_survive'] = X_test_proba[:,1:]"
      ],
      "execution_count": null,
      "outputs": []
    },
    {
      "cell_type": "code",
      "metadata": {
        "colab": {
          "base_uri": "https://localhost:8080/"
        },
        "id": "_6glPsBQjYBl",
        "outputId": "5eef08ae-10c4-44b3-ac53-2c58d1c38ee2"
      },
      "source": [
        "#Display the passengers by sorting most likely to survive first (sorted_values() method?)\n",
        "X_test['proba_survive'].sort_values(ascending=False)"
      ],
      "execution_count": null,
      "outputs": [
        {
          "output_type": "execute_result",
          "data": {
            "text/plain": [
              "883    0.966203\n",
              "135    0.963077\n",
              "777    0.957776\n",
              "289    0.956771\n",
              "309    0.955545\n",
              "         ...   \n",
              "628    0.032268\n",
              "278    0.015845\n",
              "508    0.015062\n",
              "535    0.013104\n",
              "322    0.007306\n",
              "Name: proba_survive, Length: 267, dtype: float64"
            ]
          },
          "metadata": {},
          "execution_count": 187
        }
      ]
    },
    {
      "cell_type": "code",
      "metadata": {
        "id": "2N9NNJ9VkO-R"
      },
      "source": [
        "X_proba =log_model.predict_proba(X)\n",
        "X['proba_survive'] = X_proba[:,1:]"
      ],
      "execution_count": null,
      "outputs": []
    },
    {
      "cell_type": "code",
      "metadata": {
        "colab": {
          "base_uri": "https://localhost:8080/",
          "height": 419
        },
        "id": "CNIWp83wk5eS",
        "outputId": "985f9ec7-cad7-40ce-b8fa-1af92f1e28bf"
      },
      "source": [
        "X.sort_values(by='proba_survive', ascending=False)"
      ],
      "execution_count": null,
      "outputs": [
        {
          "output_type": "execute_result",
          "data": {
            "text/html": [
              "<div>\n",
              "<style scoped>\n",
              "    .dataframe tbody tr th:only-of-type {\n",
              "        vertical-align: middle;\n",
              "    }\n",
              "\n",
              "    .dataframe tbody tr th {\n",
              "        vertical-align: top;\n",
              "    }\n",
              "\n",
              "    .dataframe thead th {\n",
              "        text-align: right;\n",
              "    }\n",
              "</style>\n",
              "<table border=\"1\" class=\"dataframe\">\n",
              "  <thead>\n",
              "    <tr style=\"text-align: right;\">\n",
              "      <th></th>\n",
              "      <th>Pclass</th>\n",
              "      <th>Age</th>\n",
              "      <th>Siblings/Spouses Aboard</th>\n",
              "      <th>Parents/Children Aboard</th>\n",
              "      <th>Fare</th>\n",
              "      <th>Sex_facto</th>\n",
              "      <th>proba_survive</th>\n",
              "    </tr>\n",
              "  </thead>\n",
              "  <tbody>\n",
              "    <tr>\n",
              "      <th>295</th>\n",
              "      <td>1</td>\n",
              "      <td>2.0</td>\n",
              "      <td>1</td>\n",
              "      <td>2</td>\n",
              "      <td>151.5500</td>\n",
              "      <td>1</td>\n",
              "      <td>0.982731</td>\n",
              "    </tr>\n",
              "    <tr>\n",
              "      <th>686</th>\n",
              "      <td>1</td>\n",
              "      <td>15.0</td>\n",
              "      <td>0</td>\n",
              "      <td>1</td>\n",
              "      <td>211.3375</td>\n",
              "      <td>1</td>\n",
              "      <td>0.980994</td>\n",
              "    </tr>\n",
              "    <tr>\n",
              "      <th>257</th>\n",
              "      <td>1</td>\n",
              "      <td>35.0</td>\n",
              "      <td>0</td>\n",
              "      <td>0</td>\n",
              "      <td>512.3292</td>\n",
              "      <td>1</td>\n",
              "      <td>0.974579</td>\n",
              "    </tr>\n",
              "    <tr>\n",
              "      <th>501</th>\n",
              "      <td>1</td>\n",
              "      <td>16.0</td>\n",
              "      <td>0</td>\n",
              "      <td>0</td>\n",
              "      <td>86.5000</td>\n",
              "      <td>1</td>\n",
              "      <td>0.974455</td>\n",
              "    </tr>\n",
              "    <tr>\n",
              "      <th>327</th>\n",
              "      <td>1</td>\n",
              "      <td>16.0</td>\n",
              "      <td>0</td>\n",
              "      <td>1</td>\n",
              "      <td>57.9792</td>\n",
              "      <td>1</td>\n",
              "      <td>0.971619</td>\n",
              "    </tr>\n",
              "    <tr>\n",
              "      <th>...</th>\n",
              "      <td>...</td>\n",
              "      <td>...</td>\n",
              "      <td>...</td>\n",
              "      <td>...</td>\n",
              "      <td>...</td>\n",
              "      <td>...</td>\n",
              "      <td>...</td>\n",
              "    </tr>\n",
              "    <tr>\n",
              "      <th>115</th>\n",
              "      <td>3</td>\n",
              "      <td>70.5</td>\n",
              "      <td>0</td>\n",
              "      <td>0</td>\n",
              "      <td>7.7500</td>\n",
              "      <td>0</td>\n",
              "      <td>0.011943</td>\n",
              "    </tr>\n",
              "    <tr>\n",
              "      <th>847</th>\n",
              "      <td>3</td>\n",
              "      <td>74.0</td>\n",
              "      <td>0</td>\n",
              "      <td>0</td>\n",
              "      <td>7.7750</td>\n",
              "      <td>0</td>\n",
              "      <td>0.009972</td>\n",
              "    </tr>\n",
              "    <tr>\n",
              "      <th>200</th>\n",
              "      <td>3</td>\n",
              "      <td>17.0</td>\n",
              "      <td>8</td>\n",
              "      <td>2</td>\n",
              "      <td>69.5500</td>\n",
              "      <td>0</td>\n",
              "      <td>0.008532</td>\n",
              "    </tr>\n",
              "    <tr>\n",
              "      <th>842</th>\n",
              "      <td>3</td>\n",
              "      <td>18.0</td>\n",
              "      <td>8</td>\n",
              "      <td>2</td>\n",
              "      <td>69.5500</td>\n",
              "      <td>0</td>\n",
              "      <td>0.008102</td>\n",
              "    </tr>\n",
              "    <tr>\n",
              "      <th>322</th>\n",
              "      <td>3</td>\n",
              "      <td>20.0</td>\n",
              "      <td>8</td>\n",
              "      <td>2</td>\n",
              "      <td>69.5500</td>\n",
              "      <td>0</td>\n",
              "      <td>0.007306</td>\n",
              "    </tr>\n",
              "  </tbody>\n",
              "</table>\n",
              "<p>887 rows × 7 columns</p>\n",
              "</div>"
            ],
            "text/plain": [
              "     Pclass   Age  Siblings/Spouses Aboard  ...      Fare  Sex_facto  proba_survive\n",
              "295       1   2.0                        1  ...  151.5500          1       0.982731\n",
              "686       1  15.0                        0  ...  211.3375          1       0.980994\n",
              "257       1  35.0                        0  ...  512.3292          1       0.974579\n",
              "501       1  16.0                        0  ...   86.5000          1       0.974455\n",
              "327       1  16.0                        0  ...   57.9792          1       0.971619\n",
              "..      ...   ...                      ...  ...       ...        ...            ...\n",
              "115       3  70.5                        0  ...    7.7500          0       0.011943\n",
              "847       3  74.0                        0  ...    7.7750          0       0.009972\n",
              "200       3  17.0                        8  ...   69.5500          0       0.008532\n",
              "842       3  18.0                        8  ...   69.5500          0       0.008102\n",
              "322       3  20.0                        8  ...   69.5500          0       0.007306\n",
              "\n",
              "[887 rows x 7 columns]"
            ]
          },
          "metadata": {},
          "execution_count": 199
        }
      ]
    },
    {
      "cell_type": "markdown",
      "metadata": {
        "id": "4DeDfBz285C_"
      },
      "source": [
        "# Bonus - Model improvement, under constraint\n",
        "\n",
        "Your time travel boss tells you that there's a budget cut. You now can only save 120 people max. Not one more.\n",
        "\n",
        "If your model predicts as \"dead\" someone who would have survived in reality. You then \"save\" that person, who would have survived even without your time-traveling help. And you take the place of someone who could have been saved. That's not optimal.\n",
        "\n",
        "Select the 120 people with the highest probability of dying. Of these, how many actually survived?"
      ]
    },
    {
      "cell_type": "code",
      "metadata": {
        "id": "_nGp-3qmzlHt",
        "colab": {
          "base_uri": "https://localhost:8080/"
        },
        "outputId": "60be1345-2175-4c52-95c3-247541d001d2"
      },
      "source": [
        "df_titanic_names = df_titanic['Name']"
      ],
      "execution_count": null,
      "outputs": [
        {
          "output_type": "execute_result",
          "data": {
            "text/plain": [
              "pandas.core.series.Series"
            ]
          },
          "metadata": {},
          "execution_count": 204
        }
      ]
    },
    {
      "cell_type": "code",
      "metadata": {
        "colab": {
          "base_uri": "https://localhost:8080/",
          "height": 453
        },
        "id": "ypiRXSSBlnYG",
        "outputId": "ca18a28f-2c64-4bca-bc40-46cee61e7e3e"
      },
      "source": [
        "titanic_2 = X.join(df_titanic_names)\n",
        "titanic_2"
      ],
      "execution_count": null,
      "outputs": [
        {
          "output_type": "execute_result",
          "data": {
            "text/html": [
              "<div>\n",
              "<style scoped>\n",
              "    .dataframe tbody tr th:only-of-type {\n",
              "        vertical-align: middle;\n",
              "    }\n",
              "\n",
              "    .dataframe tbody tr th {\n",
              "        vertical-align: top;\n",
              "    }\n",
              "\n",
              "    .dataframe thead th {\n",
              "        text-align: right;\n",
              "    }\n",
              "</style>\n",
              "<table border=\"1\" class=\"dataframe\">\n",
              "  <thead>\n",
              "    <tr style=\"text-align: right;\">\n",
              "      <th></th>\n",
              "      <th>Pclass</th>\n",
              "      <th>Age</th>\n",
              "      <th>Siblings/Spouses Aboard</th>\n",
              "      <th>Parents/Children Aboard</th>\n",
              "      <th>Fare</th>\n",
              "      <th>Sex_facto</th>\n",
              "      <th>proba_survive</th>\n",
              "      <th>Name</th>\n",
              "    </tr>\n",
              "  </thead>\n",
              "  <tbody>\n",
              "    <tr>\n",
              "      <th>0</th>\n",
              "      <td>3</td>\n",
              "      <td>22.0</td>\n",
              "      <td>1</td>\n",
              "      <td>0</td>\n",
              "      <td>7.2500</td>\n",
              "      <td>0</td>\n",
              "      <td>0.092154</td>\n",
              "      <td>Mr. Owen Harris Braund</td>\n",
              "    </tr>\n",
              "    <tr>\n",
              "      <th>1</th>\n",
              "      <td>1</td>\n",
              "      <td>38.0</td>\n",
              "      <td>1</td>\n",
              "      <td>0</td>\n",
              "      <td>71.2833</td>\n",
              "      <td>1</td>\n",
              "      <td>0.887001</td>\n",
              "      <td>Mrs. John Bradley (Florence Briggs Thayer) Cum...</td>\n",
              "    </tr>\n",
              "    <tr>\n",
              "      <th>2</th>\n",
              "      <td>3</td>\n",
              "      <td>26.0</td>\n",
              "      <td>0</td>\n",
              "      <td>0</td>\n",
              "      <td>7.9250</td>\n",
              "      <td>1</td>\n",
              "      <td>0.614279</td>\n",
              "      <td>Miss. Laina Heikkinen</td>\n",
              "    </tr>\n",
              "    <tr>\n",
              "      <th>3</th>\n",
              "      <td>1</td>\n",
              "      <td>35.0</td>\n",
              "      <td>1</td>\n",
              "      <td>0</td>\n",
              "      <td>53.1000</td>\n",
              "      <td>1</td>\n",
              "      <td>0.897921</td>\n",
              "      <td>Mrs. Jacques Heath (Lily May Peel) Futrelle</td>\n",
              "    </tr>\n",
              "    <tr>\n",
              "      <th>4</th>\n",
              "      <td>3</td>\n",
              "      <td>35.0</td>\n",
              "      <td>0</td>\n",
              "      <td>0</td>\n",
              "      <td>8.0500</td>\n",
              "      <td>0</td>\n",
              "      <td>0.071451</td>\n",
              "      <td>Mr. William Henry Allen</td>\n",
              "    </tr>\n",
              "    <tr>\n",
              "      <th>...</th>\n",
              "      <td>...</td>\n",
              "      <td>...</td>\n",
              "      <td>...</td>\n",
              "      <td>...</td>\n",
              "      <td>...</td>\n",
              "      <td>...</td>\n",
              "      <td>...</td>\n",
              "      <td>...</td>\n",
              "    </tr>\n",
              "    <tr>\n",
              "      <th>882</th>\n",
              "      <td>2</td>\n",
              "      <td>27.0</td>\n",
              "      <td>0</td>\n",
              "      <td>0</td>\n",
              "      <td>13.0000</td>\n",
              "      <td>0</td>\n",
              "      <td>0.288956</td>\n",
              "      <td>Rev. Juozas Montvila</td>\n",
              "    </tr>\n",
              "    <tr>\n",
              "      <th>883</th>\n",
              "      <td>1</td>\n",
              "      <td>19.0</td>\n",
              "      <td>0</td>\n",
              "      <td>0</td>\n",
              "      <td>30.0000</td>\n",
              "      <td>1</td>\n",
              "      <td>0.966203</td>\n",
              "      <td>Miss. Margaret Edith Graham</td>\n",
              "    </tr>\n",
              "    <tr>\n",
              "      <th>884</th>\n",
              "      <td>3</td>\n",
              "      <td>7.0</td>\n",
              "      <td>1</td>\n",
              "      <td>2</td>\n",
              "      <td>23.4500</td>\n",
              "      <td>1</td>\n",
              "      <td>0.733058</td>\n",
              "      <td>Miss. Catherine Helen Johnston</td>\n",
              "    </tr>\n",
              "    <tr>\n",
              "      <th>885</th>\n",
              "      <td>1</td>\n",
              "      <td>26.0</td>\n",
              "      <td>0</td>\n",
              "      <td>0</td>\n",
              "      <td>30.0000</td>\n",
              "      <td>0</td>\n",
              "      <td>0.605158</td>\n",
              "      <td>Mr. Karl Howell Behr</td>\n",
              "    </tr>\n",
              "    <tr>\n",
              "      <th>886</th>\n",
              "      <td>3</td>\n",
              "      <td>32.0</td>\n",
              "      <td>0</td>\n",
              "      <td>0</td>\n",
              "      <td>7.7500</td>\n",
              "      <td>0</td>\n",
              "      <td>0.082493</td>\n",
              "      <td>Mr. Patrick Dooley</td>\n",
              "    </tr>\n",
              "  </tbody>\n",
              "</table>\n",
              "<p>887 rows × 8 columns</p>\n",
              "</div>"
            ],
            "text/plain": [
              "     Pclass  ...                                               Name\n",
              "0         3  ...                             Mr. Owen Harris Braund\n",
              "1         1  ...  Mrs. John Bradley (Florence Briggs Thayer) Cum...\n",
              "2         3  ...                              Miss. Laina Heikkinen\n",
              "3         1  ...        Mrs. Jacques Heath (Lily May Peel) Futrelle\n",
              "4         3  ...                            Mr. William Henry Allen\n",
              "..      ...  ...                                                ...\n",
              "882       2  ...                               Rev. Juozas Montvila\n",
              "883       1  ...                        Miss. Margaret Edith Graham\n",
              "884       3  ...                     Miss. Catherine Helen Johnston\n",
              "885       1  ...                               Mr. Karl Howell Behr\n",
              "886       3  ...                                 Mr. Patrick Dooley\n",
              "\n",
              "[887 rows x 8 columns]"
            ]
          },
          "metadata": {},
          "execution_count": 206
        }
      ]
    },
    {
      "cell_type": "code",
      "metadata": {
        "id": "CErxEfjQ-MUU",
        "colab": {
          "base_uri": "https://localhost:8080/"
        },
        "outputId": "e7c5b8e5-40e6-41bd-c2e8-14ca4bc408c5"
      },
      "source": [
        "# It's up to you:\n",
        "dead = titanic_2.sort_values(by='proba_survive', ascending = True).head(120)\n",
        "print(dead['Name'])"
      ],
      "execution_count": null,
      "outputs": [
        {
          "output_type": "stream",
          "name": "stdout",
          "text": [
            "322        Mr. George John Jr Sage\n",
            "842        Mr. Douglas Bullen Sage\n",
            "200             Mr. Frederick Sage\n",
            "847             Mr. Johan Svensson\n",
            "115            Mr. Patrick Connors\n",
            "                  ...             \n",
            "715    Mr. Malkolm Joackim Johnson\n",
            "877              Mr. Johann Markun\n",
            "129            Mr. Jozef Drazenoic\n",
            "102      Mr. Gustaf Joel Johansson\n",
            "283             Mr. Ivan Stankovic\n",
            "Name: Name, Length: 120, dtype: object\n"
          ]
        }
      ]
    },
    {
      "cell_type": "markdown",
      "metadata": {
        "id": "5wg1tAdXXGpZ"
      },
      "source": [
        "# Bonus - More predictions\n",
        "\n",
        "Does the Reverend \"Rev. Juozas Montvila\" have a better chance of survival than \"Mrs. William (Margaret Norton) Rice\"?\n",
        "- Filter the initial DataFrame to get only the 2 rows with the 2 persons above, and only columns present in your variables (X)\n",
        "- Make a prediction with probability for this 2 people\n",
        "- Which one has a better chance to survive?\n"
      ]
    },
    {
      "cell_type": "code",
      "metadata": {
        "id": "NMoGFW8DioeP",
        "colab": {
          "base_uri": "https://localhost:8080/",
          "height": 111
        },
        "outputId": "9141bced-eed6-4321-f9c4-af3244541c17"
      },
      "source": [
        "bonus = titanic_2[(titanic_2['Name']=='Rev. Juozas Montvila') | (titanic_2['Name']=='Mrs. William (Margaret Norton) Rice')]\n",
        "bonus_numeric = bonus.drop(columns=['Name', 'proba_survive'])\n",
        "bonus_numeric"
      ],
      "execution_count": null,
      "outputs": [
        {
          "output_type": "execute_result",
          "data": {
            "text/html": [
              "<div>\n",
              "<style scoped>\n",
              "    .dataframe tbody tr th:only-of-type {\n",
              "        vertical-align: middle;\n",
              "    }\n",
              "\n",
              "    .dataframe tbody tr th {\n",
              "        vertical-align: top;\n",
              "    }\n",
              "\n",
              "    .dataframe thead th {\n",
              "        text-align: right;\n",
              "    }\n",
              "</style>\n",
              "<table border=\"1\" class=\"dataframe\">\n",
              "  <thead>\n",
              "    <tr style=\"text-align: right;\">\n",
              "      <th></th>\n",
              "      <th>Pclass</th>\n",
              "      <th>Age</th>\n",
              "      <th>Siblings/Spouses Aboard</th>\n",
              "      <th>Parents/Children Aboard</th>\n",
              "      <th>Fare</th>\n",
              "      <th>Sex_facto</th>\n",
              "    </tr>\n",
              "  </thead>\n",
              "  <tbody>\n",
              "    <tr>\n",
              "      <th>881</th>\n",
              "      <td>3</td>\n",
              "      <td>39.0</td>\n",
              "      <td>0</td>\n",
              "      <td>5</td>\n",
              "      <td>29.125</td>\n",
              "      <td>1</td>\n",
              "    </tr>\n",
              "    <tr>\n",
              "      <th>882</th>\n",
              "      <td>2</td>\n",
              "      <td>27.0</td>\n",
              "      <td>0</td>\n",
              "      <td>0</td>\n",
              "      <td>13.000</td>\n",
              "      <td>0</td>\n",
              "    </tr>\n",
              "  </tbody>\n",
              "</table>\n",
              "</div>"
            ],
            "text/plain": [
              "     Pclass   Age  ...    Fare  Sex_facto\n",
              "881       3  39.0  ...  29.125          1\n",
              "882       2  27.0  ...  13.000          0\n",
              "\n",
              "[2 rows x 6 columns]"
            ]
          },
          "metadata": {},
          "execution_count": 227
        }
      ]
    },
    {
      "cell_type": "code",
      "metadata": {
        "colab": {
          "base_uri": "https://localhost:8080/"
        },
        "id": "bFzEnLC9ngtT",
        "outputId": "25d54612-4146-403b-c5ba-d0a326b53881"
      },
      "source": [
        "log_model.predict_proba(bonus_numeric)"
      ],
      "execution_count": null,
      "outputs": [
        {
          "output_type": "execute_result",
          "data": {
            "text/plain": [
              "array([[0.59151773, 0.40848227],\n",
              "       [0.71104431, 0.28895569]])"
            ]
          },
          "metadata": {},
          "execution_count": 228
        }
      ]
    },
    {
      "cell_type": "code",
      "metadata": {
        "id": "dloWugV3nyKS"
      },
      "source": [
        "#--> Rev. Juozas Montvila a plus de chance de survivre que Mrs. William (Margaret Norton) Rice (0.41 vs 0.29)"
      ],
      "execution_count": null,
      "outputs": []
    }
  ]
}